{
  "cells": [
    {
      "cell_type": "markdown",
      "metadata": {
        "id": "view-in-github",
        "colab_type": "text"
      },
      "source": [
        "<a href=\"https://colab.research.google.com/github/inefable12/tmQM_jesus/blob/main/Zn_complexes_tmQM_data_curada_1.ipynb\" target=\"_parent\"><img src=\"https://colab.research.google.com/assets/colab-badge.svg\" alt=\"Open In Colab\"/></a>"
      ]
    },
    {
      "cell_type": "code",
      "execution_count": null,
      "metadata": {
        "id": "QC9ZFnt2OZS6"
      },
      "outputs": [],
      "source": [
        "import pandas as pd\n",
        "import numpy as np"
      ]
    },
    {
      "cell_type": "code",
      "source": [
        "zn_df_ = pd.read_csv(\"lista_solo_Zn_complexes_data_curada_OK.csv\")\n",
        "zn_df_"
      ],
      "metadata": {
        "colab": {
          "base_uri": "https://localhost:8080/",
          "height": 424
        },
        "id": "TUNYGLIPP-BJ",
        "outputId": "72be03f6-da63-4bbe-e3ab-da7f716ee587"
      },
      "execution_count": null,
      "outputs": [
        {
          "output_type": "execute_result",
          "data": {
            "text/plain": [
              "      numero CSD_code  Electronic_E  Dispersion_E  Dipole_M  Metal_q   HL_Gap  \\\n",
              "0      83583   NEJGER -10896.466500     -0.784237    8.6357  1.17817  0.07369   \n",
              "1      81410   YEJLOR  -8069.773433     -0.582928    0.0566  1.13626  0.06405   \n",
              "2      79613   FODJAM  -7357.166564     -0.598958    0.3755  1.17400  0.05873   \n",
              "3      84470   KAHCIH  -7951.074974     -0.628662    4.5995  1.23223  0.08318   \n",
              "4      81465   VENZAQ  -6951.585295     -0.545023    0.0414  1.25899  0.08823   \n",
              "...      ...      ...           ...           ...       ...      ...      ...   \n",
              "5860   82077   HIHGIP  -2967.161156     -0.024881    7.6594  0.95785  0.24731   \n",
              "5861   80637   PAXZOG  -2167.581154     -0.026320    4.6818  1.05563  0.22426   \n",
              "5862   85867   MIGCEL  -2304.850688     -0.019734   12.1050  1.26423  0.17591   \n",
              "5863   84484   SAJDAK  -1937.467477     -0.012050    0.7087  1.05551  0.18904   \n",
              "5864   78717   SAJDEO  -1858.897786     -0.005205    0.0000  1.07593  0.23192   \n",
              "\n",
              "      HOMO_Energy  LUMO_Energy  Polarizability  \n",
              "0        -0.20780     -0.13411     1826.005642  \n",
              "1        -0.18379     -0.11974     1556.970229  \n",
              "2        -0.17898     -0.12025     1495.331471  \n",
              "3        -0.16056     -0.07738     1475.185822  \n",
              "4        -0.17960     -0.09137     1340.318495  \n",
              "...           ...          ...             ...  \n",
              "5860     -0.23014      0.01717      116.259875  \n",
              "5861     -0.18937      0.03489      113.543761  \n",
              "5862     -0.35292     -0.17701       97.772754  \n",
              "5863     -0.20689     -0.01785       74.596120  \n",
              "5864     -0.23108      0.00084       51.249960  \n",
              "\n",
              "[5865 rows x 10 columns]"
            ],
            "text/html": [
              "\n",
              "  <div id=\"df-0b78d473-60e6-442f-857f-eb21b211bf5a\">\n",
              "    <div class=\"colab-df-container\">\n",
              "      <div>\n",
              "<style scoped>\n",
              "    .dataframe tbody tr th:only-of-type {\n",
              "        vertical-align: middle;\n",
              "    }\n",
              "\n",
              "    .dataframe tbody tr th {\n",
              "        vertical-align: top;\n",
              "    }\n",
              "\n",
              "    .dataframe thead th {\n",
              "        text-align: right;\n",
              "    }\n",
              "</style>\n",
              "<table border=\"1\" class=\"dataframe\">\n",
              "  <thead>\n",
              "    <tr style=\"text-align: right;\">\n",
              "      <th></th>\n",
              "      <th>numero</th>\n",
              "      <th>CSD_code</th>\n",
              "      <th>Electronic_E</th>\n",
              "      <th>Dispersion_E</th>\n",
              "      <th>Dipole_M</th>\n",
              "      <th>Metal_q</th>\n",
              "      <th>HL_Gap</th>\n",
              "      <th>HOMO_Energy</th>\n",
              "      <th>LUMO_Energy</th>\n",
              "      <th>Polarizability</th>\n",
              "    </tr>\n",
              "  </thead>\n",
              "  <tbody>\n",
              "    <tr>\n",
              "      <th>0</th>\n",
              "      <td>83583</td>\n",
              "      <td>NEJGER</td>\n",
              "      <td>-10896.466500</td>\n",
              "      <td>-0.784237</td>\n",
              "      <td>8.6357</td>\n",
              "      <td>1.17817</td>\n",
              "      <td>0.07369</td>\n",
              "      <td>-0.20780</td>\n",
              "      <td>-0.13411</td>\n",
              "      <td>1826.005642</td>\n",
              "    </tr>\n",
              "    <tr>\n",
              "      <th>1</th>\n",
              "      <td>81410</td>\n",
              "      <td>YEJLOR</td>\n",
              "      <td>-8069.773433</td>\n",
              "      <td>-0.582928</td>\n",
              "      <td>0.0566</td>\n",
              "      <td>1.13626</td>\n",
              "      <td>0.06405</td>\n",
              "      <td>-0.18379</td>\n",
              "      <td>-0.11974</td>\n",
              "      <td>1556.970229</td>\n",
              "    </tr>\n",
              "    <tr>\n",
              "      <th>2</th>\n",
              "      <td>79613</td>\n",
              "      <td>FODJAM</td>\n",
              "      <td>-7357.166564</td>\n",
              "      <td>-0.598958</td>\n",
              "      <td>0.3755</td>\n",
              "      <td>1.17400</td>\n",
              "      <td>0.05873</td>\n",
              "      <td>-0.17898</td>\n",
              "      <td>-0.12025</td>\n",
              "      <td>1495.331471</td>\n",
              "    </tr>\n",
              "    <tr>\n",
              "      <th>3</th>\n",
              "      <td>84470</td>\n",
              "      <td>KAHCIH</td>\n",
              "      <td>-7951.074974</td>\n",
              "      <td>-0.628662</td>\n",
              "      <td>4.5995</td>\n",
              "      <td>1.23223</td>\n",
              "      <td>0.08318</td>\n",
              "      <td>-0.16056</td>\n",
              "      <td>-0.07738</td>\n",
              "      <td>1475.185822</td>\n",
              "    </tr>\n",
              "    <tr>\n",
              "      <th>4</th>\n",
              "      <td>81465</td>\n",
              "      <td>VENZAQ</td>\n",
              "      <td>-6951.585295</td>\n",
              "      <td>-0.545023</td>\n",
              "      <td>0.0414</td>\n",
              "      <td>1.25899</td>\n",
              "      <td>0.08823</td>\n",
              "      <td>-0.17960</td>\n",
              "      <td>-0.09137</td>\n",
              "      <td>1340.318495</td>\n",
              "    </tr>\n",
              "    <tr>\n",
              "      <th>...</th>\n",
              "      <td>...</td>\n",
              "      <td>...</td>\n",
              "      <td>...</td>\n",
              "      <td>...</td>\n",
              "      <td>...</td>\n",
              "      <td>...</td>\n",
              "      <td>...</td>\n",
              "      <td>...</td>\n",
              "      <td>...</td>\n",
              "      <td>...</td>\n",
              "    </tr>\n",
              "    <tr>\n",
              "      <th>5860</th>\n",
              "      <td>82077</td>\n",
              "      <td>HIHGIP</td>\n",
              "      <td>-2967.161156</td>\n",
              "      <td>-0.024881</td>\n",
              "      <td>7.6594</td>\n",
              "      <td>0.95785</td>\n",
              "      <td>0.24731</td>\n",
              "      <td>-0.23014</td>\n",
              "      <td>0.01717</td>\n",
              "      <td>116.259875</td>\n",
              "    </tr>\n",
              "    <tr>\n",
              "      <th>5861</th>\n",
              "      <td>80637</td>\n",
              "      <td>PAXZOG</td>\n",
              "      <td>-2167.581154</td>\n",
              "      <td>-0.026320</td>\n",
              "      <td>4.6818</td>\n",
              "      <td>1.05563</td>\n",
              "      <td>0.22426</td>\n",
              "      <td>-0.18937</td>\n",
              "      <td>0.03489</td>\n",
              "      <td>113.543761</td>\n",
              "    </tr>\n",
              "    <tr>\n",
              "      <th>5862</th>\n",
              "      <td>85867</td>\n",
              "      <td>MIGCEL</td>\n",
              "      <td>-2304.850688</td>\n",
              "      <td>-0.019734</td>\n",
              "      <td>12.1050</td>\n",
              "      <td>1.26423</td>\n",
              "      <td>0.17591</td>\n",
              "      <td>-0.35292</td>\n",
              "      <td>-0.17701</td>\n",
              "      <td>97.772754</td>\n",
              "    </tr>\n",
              "    <tr>\n",
              "      <th>5863</th>\n",
              "      <td>84484</td>\n",
              "      <td>SAJDAK</td>\n",
              "      <td>-1937.467477</td>\n",
              "      <td>-0.012050</td>\n",
              "      <td>0.7087</td>\n",
              "      <td>1.05551</td>\n",
              "      <td>0.18904</td>\n",
              "      <td>-0.20689</td>\n",
              "      <td>-0.01785</td>\n",
              "      <td>74.596120</td>\n",
              "    </tr>\n",
              "    <tr>\n",
              "      <th>5864</th>\n",
              "      <td>78717</td>\n",
              "      <td>SAJDEO</td>\n",
              "      <td>-1858.897786</td>\n",
              "      <td>-0.005205</td>\n",
              "      <td>0.0000</td>\n",
              "      <td>1.07593</td>\n",
              "      <td>0.23192</td>\n",
              "      <td>-0.23108</td>\n",
              "      <td>0.00084</td>\n",
              "      <td>51.249960</td>\n",
              "    </tr>\n",
              "  </tbody>\n",
              "</table>\n",
              "<p>5865 rows × 10 columns</p>\n",
              "</div>\n",
              "      <button class=\"colab-df-convert\" onclick=\"convertToInteractive('df-0b78d473-60e6-442f-857f-eb21b211bf5a')\"\n",
              "              title=\"Convert this dataframe to an interactive table.\"\n",
              "              style=\"display:none;\">\n",
              "        \n",
              "  <svg xmlns=\"http://www.w3.org/2000/svg\" height=\"24px\"viewBox=\"0 0 24 24\"\n",
              "       width=\"24px\">\n",
              "    <path d=\"M0 0h24v24H0V0z\" fill=\"none\"/>\n",
              "    <path d=\"M18.56 5.44l.94 2.06.94-2.06 2.06-.94-2.06-.94-.94-2.06-.94 2.06-2.06.94zm-11 1L8.5 8.5l.94-2.06 2.06-.94-2.06-.94L8.5 2.5l-.94 2.06-2.06.94zm10 10l.94 2.06.94-2.06 2.06-.94-2.06-.94-.94-2.06-.94 2.06-2.06.94z\"/><path d=\"M17.41 7.96l-1.37-1.37c-.4-.4-.92-.59-1.43-.59-.52 0-1.04.2-1.43.59L10.3 9.45l-7.72 7.72c-.78.78-.78 2.05 0 2.83L4 21.41c.39.39.9.59 1.41.59.51 0 1.02-.2 1.41-.59l7.78-7.78 2.81-2.81c.8-.78.8-2.07 0-2.86zM5.41 20L4 18.59l7.72-7.72 1.47 1.35L5.41 20z\"/>\n",
              "  </svg>\n",
              "      </button>\n",
              "      \n",
              "  <style>\n",
              "    .colab-df-container {\n",
              "      display:flex;\n",
              "      flex-wrap:wrap;\n",
              "      gap: 12px;\n",
              "    }\n",
              "\n",
              "    .colab-df-convert {\n",
              "      background-color: #E8F0FE;\n",
              "      border: none;\n",
              "      border-radius: 50%;\n",
              "      cursor: pointer;\n",
              "      display: none;\n",
              "      fill: #1967D2;\n",
              "      height: 32px;\n",
              "      padding: 0 0 0 0;\n",
              "      width: 32px;\n",
              "    }\n",
              "\n",
              "    .colab-df-convert:hover {\n",
              "      background-color: #E2EBFA;\n",
              "      box-shadow: 0px 1px 2px rgba(60, 64, 67, 0.3), 0px 1px 3px 1px rgba(60, 64, 67, 0.15);\n",
              "      fill: #174EA6;\n",
              "    }\n",
              "\n",
              "    [theme=dark] .colab-df-convert {\n",
              "      background-color: #3B4455;\n",
              "      fill: #D2E3FC;\n",
              "    }\n",
              "\n",
              "    [theme=dark] .colab-df-convert:hover {\n",
              "      background-color: #434B5C;\n",
              "      box-shadow: 0px 1px 3px 1px rgba(0, 0, 0, 0.15);\n",
              "      filter: drop-shadow(0px 1px 2px rgba(0, 0, 0, 0.3));\n",
              "      fill: #FFFFFF;\n",
              "    }\n",
              "  </style>\n",
              "\n",
              "      <script>\n",
              "        const buttonEl =\n",
              "          document.querySelector('#df-0b78d473-60e6-442f-857f-eb21b211bf5a button.colab-df-convert');\n",
              "        buttonEl.style.display =\n",
              "          google.colab.kernel.accessAllowed ? 'block' : 'none';\n",
              "\n",
              "        async function convertToInteractive(key) {\n",
              "          const element = document.querySelector('#df-0b78d473-60e6-442f-857f-eb21b211bf5a');\n",
              "          const dataTable =\n",
              "            await google.colab.kernel.invokeFunction('convertToInteractive',\n",
              "                                                     [key], {});\n",
              "          if (!dataTable) return;\n",
              "\n",
              "          const docLinkHtml = 'Like what you see? Visit the ' +\n",
              "            '<a target=\"_blank\" href=https://colab.research.google.com/notebooks/data_table.ipynb>data table notebook</a>'\n",
              "            + ' to learn more about interactive tables.';\n",
              "          element.innerHTML = '';\n",
              "          dataTable['output_type'] = 'display_data';\n",
              "          await google.colab.output.renderOutput(dataTable, element);\n",
              "          const docLink = document.createElement('div');\n",
              "          docLink.innerHTML = docLinkHtml;\n",
              "          element.appendChild(docLink);\n",
              "        }\n",
              "      </script>\n",
              "    </div>\n",
              "  </div>\n",
              "  "
            ]
          },
          "metadata": {},
          "execution_count": 2
        }
      ]
    },
    {
      "cell_type": "code",
      "source": [
        "zn_df_.describe().round(3)"
      ],
      "metadata": {
        "colab": {
          "base_uri": "https://localhost:8080/",
          "height": 364
        },
        "id": "YmT3PpjRP988",
        "outputId": "4db8101f-b291-4092-c79a-62032401e937"
      },
      "execution_count": null,
      "outputs": [
        {
          "output_type": "execute_result",
          "data": {
            "text/plain": [
              "          numero  Electronic_E  Dispersion_E  Dipole_M   Metal_q    HL_Gap  \\\n",
              "count   5865.000      5865.000      5865.000  5865.000  5865.000  5865.000   \n",
              "mean   82512.442     -4202.957        -0.123     6.769     1.081     0.123   \n",
              "std     2393.132      1618.505         0.063     4.454     0.128     0.042   \n",
              "min    78330.000    -27194.950        -0.784     0.000     0.548     0.002   \n",
              "25%    80460.000     -4388.543        -0.156     3.727     0.961     0.095   \n",
              "50%    82535.000     -3746.358        -0.108     6.738     1.128     0.118   \n",
              "75%    84586.000     -3348.764        -0.078     9.440     1.182     0.147   \n",
              "max    86665.000     -1858.898        -0.005    40.427     1.423     0.280   \n",
              "\n",
              "       HOMO_Energy  LUMO_Energy  Polarizability  \n",
              "count     5865.000     5865.000        5865.000  \n",
              "mean        -0.200       -0.078         371.738  \n",
              "std          0.040        0.048         150.388  \n",
              "min         -0.369       -0.304          51.250  \n",
              "25%         -0.213       -0.101         260.964  \n",
              "50%         -0.195       -0.080         344.272  \n",
              "75%         -0.178       -0.049         454.504  \n",
              "max         -0.026        0.153        1826.006  "
            ],
            "text/html": [
              "\n",
              "  <div id=\"df-341f8bd8-f0b1-404f-82e4-e8ed6e9484ab\">\n",
              "    <div class=\"colab-df-container\">\n",
              "      <div>\n",
              "<style scoped>\n",
              "    .dataframe tbody tr th:only-of-type {\n",
              "        vertical-align: middle;\n",
              "    }\n",
              "\n",
              "    .dataframe tbody tr th {\n",
              "        vertical-align: top;\n",
              "    }\n",
              "\n",
              "    .dataframe thead th {\n",
              "        text-align: right;\n",
              "    }\n",
              "</style>\n",
              "<table border=\"1\" class=\"dataframe\">\n",
              "  <thead>\n",
              "    <tr style=\"text-align: right;\">\n",
              "      <th></th>\n",
              "      <th>numero</th>\n",
              "      <th>Electronic_E</th>\n",
              "      <th>Dispersion_E</th>\n",
              "      <th>Dipole_M</th>\n",
              "      <th>Metal_q</th>\n",
              "      <th>HL_Gap</th>\n",
              "      <th>HOMO_Energy</th>\n",
              "      <th>LUMO_Energy</th>\n",
              "      <th>Polarizability</th>\n",
              "    </tr>\n",
              "  </thead>\n",
              "  <tbody>\n",
              "    <tr>\n",
              "      <th>count</th>\n",
              "      <td>5865.000</td>\n",
              "      <td>5865.000</td>\n",
              "      <td>5865.000</td>\n",
              "      <td>5865.000</td>\n",
              "      <td>5865.000</td>\n",
              "      <td>5865.000</td>\n",
              "      <td>5865.000</td>\n",
              "      <td>5865.000</td>\n",
              "      <td>5865.000</td>\n",
              "    </tr>\n",
              "    <tr>\n",
              "      <th>mean</th>\n",
              "      <td>82512.442</td>\n",
              "      <td>-4202.957</td>\n",
              "      <td>-0.123</td>\n",
              "      <td>6.769</td>\n",
              "      <td>1.081</td>\n",
              "      <td>0.123</td>\n",
              "      <td>-0.200</td>\n",
              "      <td>-0.078</td>\n",
              "      <td>371.738</td>\n",
              "    </tr>\n",
              "    <tr>\n",
              "      <th>std</th>\n",
              "      <td>2393.132</td>\n",
              "      <td>1618.505</td>\n",
              "      <td>0.063</td>\n",
              "      <td>4.454</td>\n",
              "      <td>0.128</td>\n",
              "      <td>0.042</td>\n",
              "      <td>0.040</td>\n",
              "      <td>0.048</td>\n",
              "      <td>150.388</td>\n",
              "    </tr>\n",
              "    <tr>\n",
              "      <th>min</th>\n",
              "      <td>78330.000</td>\n",
              "      <td>-27194.950</td>\n",
              "      <td>-0.784</td>\n",
              "      <td>0.000</td>\n",
              "      <td>0.548</td>\n",
              "      <td>0.002</td>\n",
              "      <td>-0.369</td>\n",
              "      <td>-0.304</td>\n",
              "      <td>51.250</td>\n",
              "    </tr>\n",
              "    <tr>\n",
              "      <th>25%</th>\n",
              "      <td>80460.000</td>\n",
              "      <td>-4388.543</td>\n",
              "      <td>-0.156</td>\n",
              "      <td>3.727</td>\n",
              "      <td>0.961</td>\n",
              "      <td>0.095</td>\n",
              "      <td>-0.213</td>\n",
              "      <td>-0.101</td>\n",
              "      <td>260.964</td>\n",
              "    </tr>\n",
              "    <tr>\n",
              "      <th>50%</th>\n",
              "      <td>82535.000</td>\n",
              "      <td>-3746.358</td>\n",
              "      <td>-0.108</td>\n",
              "      <td>6.738</td>\n",
              "      <td>1.128</td>\n",
              "      <td>0.118</td>\n",
              "      <td>-0.195</td>\n",
              "      <td>-0.080</td>\n",
              "      <td>344.272</td>\n",
              "    </tr>\n",
              "    <tr>\n",
              "      <th>75%</th>\n",
              "      <td>84586.000</td>\n",
              "      <td>-3348.764</td>\n",
              "      <td>-0.078</td>\n",
              "      <td>9.440</td>\n",
              "      <td>1.182</td>\n",
              "      <td>0.147</td>\n",
              "      <td>-0.178</td>\n",
              "      <td>-0.049</td>\n",
              "      <td>454.504</td>\n",
              "    </tr>\n",
              "    <tr>\n",
              "      <th>max</th>\n",
              "      <td>86665.000</td>\n",
              "      <td>-1858.898</td>\n",
              "      <td>-0.005</td>\n",
              "      <td>40.427</td>\n",
              "      <td>1.423</td>\n",
              "      <td>0.280</td>\n",
              "      <td>-0.026</td>\n",
              "      <td>0.153</td>\n",
              "      <td>1826.006</td>\n",
              "    </tr>\n",
              "  </tbody>\n",
              "</table>\n",
              "</div>\n",
              "      <button class=\"colab-df-convert\" onclick=\"convertToInteractive('df-341f8bd8-f0b1-404f-82e4-e8ed6e9484ab')\"\n",
              "              title=\"Convert this dataframe to an interactive table.\"\n",
              "              style=\"display:none;\">\n",
              "        \n",
              "  <svg xmlns=\"http://www.w3.org/2000/svg\" height=\"24px\"viewBox=\"0 0 24 24\"\n",
              "       width=\"24px\">\n",
              "    <path d=\"M0 0h24v24H0V0z\" fill=\"none\"/>\n",
              "    <path d=\"M18.56 5.44l.94 2.06.94-2.06 2.06-.94-2.06-.94-.94-2.06-.94 2.06-2.06.94zm-11 1L8.5 8.5l.94-2.06 2.06-.94-2.06-.94L8.5 2.5l-.94 2.06-2.06.94zm10 10l.94 2.06.94-2.06 2.06-.94-2.06-.94-.94-2.06-.94 2.06-2.06.94z\"/><path d=\"M17.41 7.96l-1.37-1.37c-.4-.4-.92-.59-1.43-.59-.52 0-1.04.2-1.43.59L10.3 9.45l-7.72 7.72c-.78.78-.78 2.05 0 2.83L4 21.41c.39.39.9.59 1.41.59.51 0 1.02-.2 1.41-.59l7.78-7.78 2.81-2.81c.8-.78.8-2.07 0-2.86zM5.41 20L4 18.59l7.72-7.72 1.47 1.35L5.41 20z\"/>\n",
              "  </svg>\n",
              "      </button>\n",
              "      \n",
              "  <style>\n",
              "    .colab-df-container {\n",
              "      display:flex;\n",
              "      flex-wrap:wrap;\n",
              "      gap: 12px;\n",
              "    }\n",
              "\n",
              "    .colab-df-convert {\n",
              "      background-color: #E8F0FE;\n",
              "      border: none;\n",
              "      border-radius: 50%;\n",
              "      cursor: pointer;\n",
              "      display: none;\n",
              "      fill: #1967D2;\n",
              "      height: 32px;\n",
              "      padding: 0 0 0 0;\n",
              "      width: 32px;\n",
              "    }\n",
              "\n",
              "    .colab-df-convert:hover {\n",
              "      background-color: #E2EBFA;\n",
              "      box-shadow: 0px 1px 2px rgba(60, 64, 67, 0.3), 0px 1px 3px 1px rgba(60, 64, 67, 0.15);\n",
              "      fill: #174EA6;\n",
              "    }\n",
              "\n",
              "    [theme=dark] .colab-df-convert {\n",
              "      background-color: #3B4455;\n",
              "      fill: #D2E3FC;\n",
              "    }\n",
              "\n",
              "    [theme=dark] .colab-df-convert:hover {\n",
              "      background-color: #434B5C;\n",
              "      box-shadow: 0px 1px 3px 1px rgba(0, 0, 0, 0.15);\n",
              "      filter: drop-shadow(0px 1px 2px rgba(0, 0, 0, 0.3));\n",
              "      fill: #FFFFFF;\n",
              "    }\n",
              "  </style>\n",
              "\n",
              "      <script>\n",
              "        const buttonEl =\n",
              "          document.querySelector('#df-341f8bd8-f0b1-404f-82e4-e8ed6e9484ab button.colab-df-convert');\n",
              "        buttonEl.style.display =\n",
              "          google.colab.kernel.accessAllowed ? 'block' : 'none';\n",
              "\n",
              "        async function convertToInteractive(key) {\n",
              "          const element = document.querySelector('#df-341f8bd8-f0b1-404f-82e4-e8ed6e9484ab');\n",
              "          const dataTable =\n",
              "            await google.colab.kernel.invokeFunction('convertToInteractive',\n",
              "                                                     [key], {});\n",
              "          if (!dataTable) return;\n",
              "\n",
              "          const docLinkHtml = 'Like what you see? Visit the ' +\n",
              "            '<a target=\"_blank\" href=https://colab.research.google.com/notebooks/data_table.ipynb>data table notebook</a>'\n",
              "            + ' to learn more about interactive tables.';\n",
              "          element.innerHTML = '';\n",
              "          dataTable['output_type'] = 'display_data';\n",
              "          await google.colab.output.renderOutput(dataTable, element);\n",
              "          const docLink = document.createElement('div');\n",
              "          docLink.innerHTML = docLinkHtml;\n",
              "          element.appendChild(docLink);\n",
              "        }\n",
              "      </script>\n",
              "    </div>\n",
              "  </div>\n",
              "  "
            ]
          },
          "metadata": {},
          "execution_count": 26
        }
      ]
    },
    {
      "cell_type": "code",
      "source": [
        "zn_df_.info()"
      ],
      "metadata": {
        "colab": {
          "base_uri": "https://localhost:8080/"
        },
        "id": "YFhQfiOV6P9N",
        "outputId": "46a00583-fdc9-422f-8b75-67b5499c6428"
      },
      "execution_count": null,
      "outputs": [
        {
          "output_type": "stream",
          "name": "stdout",
          "text": [
            "<class 'pandas.core.frame.DataFrame'>\n",
            "RangeIndex: 5865 entries, 0 to 5864\n",
            "Data columns (total 10 columns):\n",
            " #   Column          Non-Null Count  Dtype  \n",
            "---  ------          --------------  -----  \n",
            " 0   numero          5865 non-null   int64  \n",
            " 1   CSD_code        5865 non-null   object \n",
            " 2   Electronic_E    5865 non-null   float64\n",
            " 3   Dispersion_E    5865 non-null   float64\n",
            " 4   Dipole_M        5865 non-null   float64\n",
            " 5   Metal_q         5865 non-null   float64\n",
            " 6   HL_Gap          5865 non-null   float64\n",
            " 7   HOMO_Energy     5865 non-null   float64\n",
            " 8   LUMO_Energy     5865 non-null   float64\n",
            " 9   Polarizability  5865 non-null   float64\n",
            "dtypes: float64(8), int64(1), object(1)\n",
            "memory usage: 458.3+ KB\n"
          ]
        }
      ]
    },
    {
      "cell_type": "code",
      "source": [
        "dx1 = pd.DataFrame.copy(zn_df_) #en esta se fijaran los CSD_code como encabezado de fila\n",
        "dx2 = dx1.drop(['numero','CSD_code'], axis=1)\n",
        "dx2"
      ],
      "metadata": {
        "colab": {
          "base_uri": "https://localhost:8080/",
          "height": 488
        },
        "id": "CifrMRfuP94-",
        "outputId": "f8337779-bd35-40fa-d490-851886d70ace"
      },
      "execution_count": null,
      "outputs": [
        {
          "output_type": "execute_result",
          "data": {
            "text/plain": [
              "      Electronic_E  Dispersion_E  Dipole_M  Metal_q   HL_Gap  HOMO_Energy  \\\n",
              "0    -10896.466500     -0.784237    8.6357  1.17817  0.07369     -0.20780   \n",
              "1     -8069.773433     -0.582928    0.0566  1.13626  0.06405     -0.18379   \n",
              "2     -7357.166564     -0.598958    0.3755  1.17400  0.05873     -0.17898   \n",
              "3     -7951.074974     -0.628662    4.5995  1.23223  0.08318     -0.16056   \n",
              "4     -6951.585295     -0.545023    0.0414  1.25899  0.08823     -0.17960   \n",
              "...            ...           ...       ...      ...      ...          ...   \n",
              "5860  -2967.161156     -0.024881    7.6594  0.95785  0.24731     -0.23014   \n",
              "5861  -2167.581154     -0.026320    4.6818  1.05563  0.22426     -0.18937   \n",
              "5862  -2304.850688     -0.019734   12.1050  1.26423  0.17591     -0.35292   \n",
              "5863  -1937.467477     -0.012050    0.7087  1.05551  0.18904     -0.20689   \n",
              "5864  -1858.897786     -0.005205    0.0000  1.07593  0.23192     -0.23108   \n",
              "\n",
              "      LUMO_Energy  Polarizability  \n",
              "0        -0.13411     1826.005642  \n",
              "1        -0.11974     1556.970229  \n",
              "2        -0.12025     1495.331471  \n",
              "3        -0.07738     1475.185822  \n",
              "4        -0.09137     1340.318495  \n",
              "...           ...             ...  \n",
              "5860      0.01717      116.259875  \n",
              "5861      0.03489      113.543761  \n",
              "5862     -0.17701       97.772754  \n",
              "5863     -0.01785       74.596120  \n",
              "5864      0.00084       51.249960  \n",
              "\n",
              "[5865 rows x 8 columns]"
            ],
            "text/html": [
              "\n",
              "  <div id=\"df-9121e306-b7ee-48cb-9197-7082d76cf82c\">\n",
              "    <div class=\"colab-df-container\">\n",
              "      <div>\n",
              "<style scoped>\n",
              "    .dataframe tbody tr th:only-of-type {\n",
              "        vertical-align: middle;\n",
              "    }\n",
              "\n",
              "    .dataframe tbody tr th {\n",
              "        vertical-align: top;\n",
              "    }\n",
              "\n",
              "    .dataframe thead th {\n",
              "        text-align: right;\n",
              "    }\n",
              "</style>\n",
              "<table border=\"1\" class=\"dataframe\">\n",
              "  <thead>\n",
              "    <tr style=\"text-align: right;\">\n",
              "      <th></th>\n",
              "      <th>Electronic_E</th>\n",
              "      <th>Dispersion_E</th>\n",
              "      <th>Dipole_M</th>\n",
              "      <th>Metal_q</th>\n",
              "      <th>HL_Gap</th>\n",
              "      <th>HOMO_Energy</th>\n",
              "      <th>LUMO_Energy</th>\n",
              "      <th>Polarizability</th>\n",
              "    </tr>\n",
              "  </thead>\n",
              "  <tbody>\n",
              "    <tr>\n",
              "      <th>0</th>\n",
              "      <td>-10896.466500</td>\n",
              "      <td>-0.784237</td>\n",
              "      <td>8.6357</td>\n",
              "      <td>1.17817</td>\n",
              "      <td>0.07369</td>\n",
              "      <td>-0.20780</td>\n",
              "      <td>-0.13411</td>\n",
              "      <td>1826.005642</td>\n",
              "    </tr>\n",
              "    <tr>\n",
              "      <th>1</th>\n",
              "      <td>-8069.773433</td>\n",
              "      <td>-0.582928</td>\n",
              "      <td>0.0566</td>\n",
              "      <td>1.13626</td>\n",
              "      <td>0.06405</td>\n",
              "      <td>-0.18379</td>\n",
              "      <td>-0.11974</td>\n",
              "      <td>1556.970229</td>\n",
              "    </tr>\n",
              "    <tr>\n",
              "      <th>2</th>\n",
              "      <td>-7357.166564</td>\n",
              "      <td>-0.598958</td>\n",
              "      <td>0.3755</td>\n",
              "      <td>1.17400</td>\n",
              "      <td>0.05873</td>\n",
              "      <td>-0.17898</td>\n",
              "      <td>-0.12025</td>\n",
              "      <td>1495.331471</td>\n",
              "    </tr>\n",
              "    <tr>\n",
              "      <th>3</th>\n",
              "      <td>-7951.074974</td>\n",
              "      <td>-0.628662</td>\n",
              "      <td>4.5995</td>\n",
              "      <td>1.23223</td>\n",
              "      <td>0.08318</td>\n",
              "      <td>-0.16056</td>\n",
              "      <td>-0.07738</td>\n",
              "      <td>1475.185822</td>\n",
              "    </tr>\n",
              "    <tr>\n",
              "      <th>4</th>\n",
              "      <td>-6951.585295</td>\n",
              "      <td>-0.545023</td>\n",
              "      <td>0.0414</td>\n",
              "      <td>1.25899</td>\n",
              "      <td>0.08823</td>\n",
              "      <td>-0.17960</td>\n",
              "      <td>-0.09137</td>\n",
              "      <td>1340.318495</td>\n",
              "    </tr>\n",
              "    <tr>\n",
              "      <th>...</th>\n",
              "      <td>...</td>\n",
              "      <td>...</td>\n",
              "      <td>...</td>\n",
              "      <td>...</td>\n",
              "      <td>...</td>\n",
              "      <td>...</td>\n",
              "      <td>...</td>\n",
              "      <td>...</td>\n",
              "    </tr>\n",
              "    <tr>\n",
              "      <th>5860</th>\n",
              "      <td>-2967.161156</td>\n",
              "      <td>-0.024881</td>\n",
              "      <td>7.6594</td>\n",
              "      <td>0.95785</td>\n",
              "      <td>0.24731</td>\n",
              "      <td>-0.23014</td>\n",
              "      <td>0.01717</td>\n",
              "      <td>116.259875</td>\n",
              "    </tr>\n",
              "    <tr>\n",
              "      <th>5861</th>\n",
              "      <td>-2167.581154</td>\n",
              "      <td>-0.026320</td>\n",
              "      <td>4.6818</td>\n",
              "      <td>1.05563</td>\n",
              "      <td>0.22426</td>\n",
              "      <td>-0.18937</td>\n",
              "      <td>0.03489</td>\n",
              "      <td>113.543761</td>\n",
              "    </tr>\n",
              "    <tr>\n",
              "      <th>5862</th>\n",
              "      <td>-2304.850688</td>\n",
              "      <td>-0.019734</td>\n",
              "      <td>12.1050</td>\n",
              "      <td>1.26423</td>\n",
              "      <td>0.17591</td>\n",
              "      <td>-0.35292</td>\n",
              "      <td>-0.17701</td>\n",
              "      <td>97.772754</td>\n",
              "    </tr>\n",
              "    <tr>\n",
              "      <th>5863</th>\n",
              "      <td>-1937.467477</td>\n",
              "      <td>-0.012050</td>\n",
              "      <td>0.7087</td>\n",
              "      <td>1.05551</td>\n",
              "      <td>0.18904</td>\n",
              "      <td>-0.20689</td>\n",
              "      <td>-0.01785</td>\n",
              "      <td>74.596120</td>\n",
              "    </tr>\n",
              "    <tr>\n",
              "      <th>5864</th>\n",
              "      <td>-1858.897786</td>\n",
              "      <td>-0.005205</td>\n",
              "      <td>0.0000</td>\n",
              "      <td>1.07593</td>\n",
              "      <td>0.23192</td>\n",
              "      <td>-0.23108</td>\n",
              "      <td>0.00084</td>\n",
              "      <td>51.249960</td>\n",
              "    </tr>\n",
              "  </tbody>\n",
              "</table>\n",
              "<p>5865 rows × 8 columns</p>\n",
              "</div>\n",
              "      <button class=\"colab-df-convert\" onclick=\"convertToInteractive('df-9121e306-b7ee-48cb-9197-7082d76cf82c')\"\n",
              "              title=\"Convert this dataframe to an interactive table.\"\n",
              "              style=\"display:none;\">\n",
              "        \n",
              "  <svg xmlns=\"http://www.w3.org/2000/svg\" height=\"24px\"viewBox=\"0 0 24 24\"\n",
              "       width=\"24px\">\n",
              "    <path d=\"M0 0h24v24H0V0z\" fill=\"none\"/>\n",
              "    <path d=\"M18.56 5.44l.94 2.06.94-2.06 2.06-.94-2.06-.94-.94-2.06-.94 2.06-2.06.94zm-11 1L8.5 8.5l.94-2.06 2.06-.94-2.06-.94L8.5 2.5l-.94 2.06-2.06.94zm10 10l.94 2.06.94-2.06 2.06-.94-2.06-.94-.94-2.06-.94 2.06-2.06.94z\"/><path d=\"M17.41 7.96l-1.37-1.37c-.4-.4-.92-.59-1.43-.59-.52 0-1.04.2-1.43.59L10.3 9.45l-7.72 7.72c-.78.78-.78 2.05 0 2.83L4 21.41c.39.39.9.59 1.41.59.51 0 1.02-.2 1.41-.59l7.78-7.78 2.81-2.81c.8-.78.8-2.07 0-2.86zM5.41 20L4 18.59l7.72-7.72 1.47 1.35L5.41 20z\"/>\n",
              "  </svg>\n",
              "      </button>\n",
              "      \n",
              "  <style>\n",
              "    .colab-df-container {\n",
              "      display:flex;\n",
              "      flex-wrap:wrap;\n",
              "      gap: 12px;\n",
              "    }\n",
              "\n",
              "    .colab-df-convert {\n",
              "      background-color: #E8F0FE;\n",
              "      border: none;\n",
              "      border-radius: 50%;\n",
              "      cursor: pointer;\n",
              "      display: none;\n",
              "      fill: #1967D2;\n",
              "      height: 32px;\n",
              "      padding: 0 0 0 0;\n",
              "      width: 32px;\n",
              "    }\n",
              "\n",
              "    .colab-df-convert:hover {\n",
              "      background-color: #E2EBFA;\n",
              "      box-shadow: 0px 1px 2px rgba(60, 64, 67, 0.3), 0px 1px 3px 1px rgba(60, 64, 67, 0.15);\n",
              "      fill: #174EA6;\n",
              "    }\n",
              "\n",
              "    [theme=dark] .colab-df-convert {\n",
              "      background-color: #3B4455;\n",
              "      fill: #D2E3FC;\n",
              "    }\n",
              "\n",
              "    [theme=dark] .colab-df-convert:hover {\n",
              "      background-color: #434B5C;\n",
              "      box-shadow: 0px 1px 3px 1px rgba(0, 0, 0, 0.15);\n",
              "      filter: drop-shadow(0px 1px 2px rgba(0, 0, 0, 0.3));\n",
              "      fill: #FFFFFF;\n",
              "    }\n",
              "  </style>\n",
              "\n",
              "      <script>\n",
              "        const buttonEl =\n",
              "          document.querySelector('#df-9121e306-b7ee-48cb-9197-7082d76cf82c button.colab-df-convert');\n",
              "        buttonEl.style.display =\n",
              "          google.colab.kernel.accessAllowed ? 'block' : 'none';\n",
              "\n",
              "        async function convertToInteractive(key) {\n",
              "          const element = document.querySelector('#df-9121e306-b7ee-48cb-9197-7082d76cf82c');\n",
              "          const dataTable =\n",
              "            await google.colab.kernel.invokeFunction('convertToInteractive',\n",
              "                                                     [key], {});\n",
              "          if (!dataTable) return;\n",
              "\n",
              "          const docLinkHtml = 'Like what you see? Visit the ' +\n",
              "            '<a target=\"_blank\" href=https://colab.research.google.com/notebooks/data_table.ipynb>data table notebook</a>'\n",
              "            + ' to learn more about interactive tables.';\n",
              "          element.innerHTML = '';\n",
              "          dataTable['output_type'] = 'display_data';\n",
              "          await google.colab.output.renderOutput(dataTable, element);\n",
              "          const docLink = document.createElement('div');\n",
              "          docLink.innerHTML = docLinkHtml;\n",
              "          element.appendChild(docLink);\n",
              "        }\n",
              "      </script>\n",
              "    </div>\n",
              "  </div>\n",
              "  "
            ]
          },
          "metadata": {},
          "execution_count": 27
        }
      ]
    },
    {
      "cell_type": "code",
      "source": [
        "#Esta clasificacion se uso con el archivo:\n",
        "#\"lista_solo_Zn_complexes_data_curada_OK.csv\"\n",
        "# Notar que se usa 'Metal_q_neg'\n",
        "#zn_df_.sort_values(by=['Polarizability','Dipole_M','HL_Gap','HOMO_Energy','Metal_q_neg'], inplace=True,\n",
        "#               ascending = [True, True, True, True, True])\n",
        "#print(zn_df_)"
      ],
      "metadata": {
        "id": "hCxl6Y33nCNJ"
      },
      "execution_count": null,
      "outputs": []
    },
    {
      "cell_type": "code",
      "source": [
        "#extra_guardar\n",
        "#zn_df_.to_csv('post_EDA_Zn_complexes_edit.csv', index=False)"
      ],
      "metadata": {
        "id": "W-rny0hNnwdQ"
      },
      "execution_count": null,
      "outputs": []
    },
    {
      "cell_type": "code",
      "source": [
        "zn_df_"
      ],
      "metadata": {
        "id": "JsxISVtSZeea",
        "outputId": "ecb816d4-d804-4499-acae-26c4e58c89b6",
        "colab": {
          "base_uri": "https://localhost:8080/",
          "height": 424
        }
      },
      "execution_count": null,
      "outputs": [
        {
          "output_type": "execute_result",
          "data": {
            "text/plain": [
              "      numero CSD_code  Electronic_E  Dispersion_E  Dipole_M  Metal_q   HL_Gap  \\\n",
              "0      83583   NEJGER -10896.466500     -0.784237    8.6357  1.17817  0.07369   \n",
              "1      81410   YEJLOR  -8069.773433     -0.582928    0.0566  1.13626  0.06405   \n",
              "2      79613   FODJAM  -7357.166564     -0.598958    0.3755  1.17400  0.05873   \n",
              "3      84470   KAHCIH  -7951.074974     -0.628662    4.5995  1.23223  0.08318   \n",
              "4      81465   VENZAQ  -6951.585295     -0.545023    0.0414  1.25899  0.08823   \n",
              "...      ...      ...           ...           ...       ...      ...      ...   \n",
              "5860   82077   HIHGIP  -2967.161156     -0.024881    7.6594  0.95785  0.24731   \n",
              "5861   80637   PAXZOG  -2167.581154     -0.026320    4.6818  1.05563  0.22426   \n",
              "5862   85867   MIGCEL  -2304.850688     -0.019734   12.1050  1.26423  0.17591   \n",
              "5863   84484   SAJDAK  -1937.467477     -0.012050    0.7087  1.05551  0.18904   \n",
              "5864   78717   SAJDEO  -1858.897786     -0.005205    0.0000  1.07593  0.23192   \n",
              "\n",
              "      HOMO_Energy  LUMO_Energy  Polarizability  \n",
              "0        -0.20780     -0.13411     1826.005642  \n",
              "1        -0.18379     -0.11974     1556.970229  \n",
              "2        -0.17898     -0.12025     1495.331471  \n",
              "3        -0.16056     -0.07738     1475.185822  \n",
              "4        -0.17960     -0.09137     1340.318495  \n",
              "...           ...          ...             ...  \n",
              "5860     -0.23014      0.01717      116.259875  \n",
              "5861     -0.18937      0.03489      113.543761  \n",
              "5862     -0.35292     -0.17701       97.772754  \n",
              "5863     -0.20689     -0.01785       74.596120  \n",
              "5864     -0.23108      0.00084       51.249960  \n",
              "\n",
              "[5865 rows x 10 columns]"
            ],
            "text/html": [
              "\n",
              "  <div id=\"df-610a95fd-7709-4a96-ae3a-a7625f1e0861\">\n",
              "    <div class=\"colab-df-container\">\n",
              "      <div>\n",
              "<style scoped>\n",
              "    .dataframe tbody tr th:only-of-type {\n",
              "        vertical-align: middle;\n",
              "    }\n",
              "\n",
              "    .dataframe tbody tr th {\n",
              "        vertical-align: top;\n",
              "    }\n",
              "\n",
              "    .dataframe thead th {\n",
              "        text-align: right;\n",
              "    }\n",
              "</style>\n",
              "<table border=\"1\" class=\"dataframe\">\n",
              "  <thead>\n",
              "    <tr style=\"text-align: right;\">\n",
              "      <th></th>\n",
              "      <th>numero</th>\n",
              "      <th>CSD_code</th>\n",
              "      <th>Electronic_E</th>\n",
              "      <th>Dispersion_E</th>\n",
              "      <th>Dipole_M</th>\n",
              "      <th>Metal_q</th>\n",
              "      <th>HL_Gap</th>\n",
              "      <th>HOMO_Energy</th>\n",
              "      <th>LUMO_Energy</th>\n",
              "      <th>Polarizability</th>\n",
              "    </tr>\n",
              "  </thead>\n",
              "  <tbody>\n",
              "    <tr>\n",
              "      <th>0</th>\n",
              "      <td>83583</td>\n",
              "      <td>NEJGER</td>\n",
              "      <td>-10896.466500</td>\n",
              "      <td>-0.784237</td>\n",
              "      <td>8.6357</td>\n",
              "      <td>1.17817</td>\n",
              "      <td>0.07369</td>\n",
              "      <td>-0.20780</td>\n",
              "      <td>-0.13411</td>\n",
              "      <td>1826.005642</td>\n",
              "    </tr>\n",
              "    <tr>\n",
              "      <th>1</th>\n",
              "      <td>81410</td>\n",
              "      <td>YEJLOR</td>\n",
              "      <td>-8069.773433</td>\n",
              "      <td>-0.582928</td>\n",
              "      <td>0.0566</td>\n",
              "      <td>1.13626</td>\n",
              "      <td>0.06405</td>\n",
              "      <td>-0.18379</td>\n",
              "      <td>-0.11974</td>\n",
              "      <td>1556.970229</td>\n",
              "    </tr>\n",
              "    <tr>\n",
              "      <th>2</th>\n",
              "      <td>79613</td>\n",
              "      <td>FODJAM</td>\n",
              "      <td>-7357.166564</td>\n",
              "      <td>-0.598958</td>\n",
              "      <td>0.3755</td>\n",
              "      <td>1.17400</td>\n",
              "      <td>0.05873</td>\n",
              "      <td>-0.17898</td>\n",
              "      <td>-0.12025</td>\n",
              "      <td>1495.331471</td>\n",
              "    </tr>\n",
              "    <tr>\n",
              "      <th>3</th>\n",
              "      <td>84470</td>\n",
              "      <td>KAHCIH</td>\n",
              "      <td>-7951.074974</td>\n",
              "      <td>-0.628662</td>\n",
              "      <td>4.5995</td>\n",
              "      <td>1.23223</td>\n",
              "      <td>0.08318</td>\n",
              "      <td>-0.16056</td>\n",
              "      <td>-0.07738</td>\n",
              "      <td>1475.185822</td>\n",
              "    </tr>\n",
              "    <tr>\n",
              "      <th>4</th>\n",
              "      <td>81465</td>\n",
              "      <td>VENZAQ</td>\n",
              "      <td>-6951.585295</td>\n",
              "      <td>-0.545023</td>\n",
              "      <td>0.0414</td>\n",
              "      <td>1.25899</td>\n",
              "      <td>0.08823</td>\n",
              "      <td>-0.17960</td>\n",
              "      <td>-0.09137</td>\n",
              "      <td>1340.318495</td>\n",
              "    </tr>\n",
              "    <tr>\n",
              "      <th>...</th>\n",
              "      <td>...</td>\n",
              "      <td>...</td>\n",
              "      <td>...</td>\n",
              "      <td>...</td>\n",
              "      <td>...</td>\n",
              "      <td>...</td>\n",
              "      <td>...</td>\n",
              "      <td>...</td>\n",
              "      <td>...</td>\n",
              "      <td>...</td>\n",
              "    </tr>\n",
              "    <tr>\n",
              "      <th>5860</th>\n",
              "      <td>82077</td>\n",
              "      <td>HIHGIP</td>\n",
              "      <td>-2967.161156</td>\n",
              "      <td>-0.024881</td>\n",
              "      <td>7.6594</td>\n",
              "      <td>0.95785</td>\n",
              "      <td>0.24731</td>\n",
              "      <td>-0.23014</td>\n",
              "      <td>0.01717</td>\n",
              "      <td>116.259875</td>\n",
              "    </tr>\n",
              "    <tr>\n",
              "      <th>5861</th>\n",
              "      <td>80637</td>\n",
              "      <td>PAXZOG</td>\n",
              "      <td>-2167.581154</td>\n",
              "      <td>-0.026320</td>\n",
              "      <td>4.6818</td>\n",
              "      <td>1.05563</td>\n",
              "      <td>0.22426</td>\n",
              "      <td>-0.18937</td>\n",
              "      <td>0.03489</td>\n",
              "      <td>113.543761</td>\n",
              "    </tr>\n",
              "    <tr>\n",
              "      <th>5862</th>\n",
              "      <td>85867</td>\n",
              "      <td>MIGCEL</td>\n",
              "      <td>-2304.850688</td>\n",
              "      <td>-0.019734</td>\n",
              "      <td>12.1050</td>\n",
              "      <td>1.26423</td>\n",
              "      <td>0.17591</td>\n",
              "      <td>-0.35292</td>\n",
              "      <td>-0.17701</td>\n",
              "      <td>97.772754</td>\n",
              "    </tr>\n",
              "    <tr>\n",
              "      <th>5863</th>\n",
              "      <td>84484</td>\n",
              "      <td>SAJDAK</td>\n",
              "      <td>-1937.467477</td>\n",
              "      <td>-0.012050</td>\n",
              "      <td>0.7087</td>\n",
              "      <td>1.05551</td>\n",
              "      <td>0.18904</td>\n",
              "      <td>-0.20689</td>\n",
              "      <td>-0.01785</td>\n",
              "      <td>74.596120</td>\n",
              "    </tr>\n",
              "    <tr>\n",
              "      <th>5864</th>\n",
              "      <td>78717</td>\n",
              "      <td>SAJDEO</td>\n",
              "      <td>-1858.897786</td>\n",
              "      <td>-0.005205</td>\n",
              "      <td>0.0000</td>\n",
              "      <td>1.07593</td>\n",
              "      <td>0.23192</td>\n",
              "      <td>-0.23108</td>\n",
              "      <td>0.00084</td>\n",
              "      <td>51.249960</td>\n",
              "    </tr>\n",
              "  </tbody>\n",
              "</table>\n",
              "<p>5865 rows × 10 columns</p>\n",
              "</div>\n",
              "      <button class=\"colab-df-convert\" onclick=\"convertToInteractive('df-610a95fd-7709-4a96-ae3a-a7625f1e0861')\"\n",
              "              title=\"Convert this dataframe to an interactive table.\"\n",
              "              style=\"display:none;\">\n",
              "        \n",
              "  <svg xmlns=\"http://www.w3.org/2000/svg\" height=\"24px\"viewBox=\"0 0 24 24\"\n",
              "       width=\"24px\">\n",
              "    <path d=\"M0 0h24v24H0V0z\" fill=\"none\"/>\n",
              "    <path d=\"M18.56 5.44l.94 2.06.94-2.06 2.06-.94-2.06-.94-.94-2.06-.94 2.06-2.06.94zm-11 1L8.5 8.5l.94-2.06 2.06-.94-2.06-.94L8.5 2.5l-.94 2.06-2.06.94zm10 10l.94 2.06.94-2.06 2.06-.94-2.06-.94-.94-2.06-.94 2.06-2.06.94z\"/><path d=\"M17.41 7.96l-1.37-1.37c-.4-.4-.92-.59-1.43-.59-.52 0-1.04.2-1.43.59L10.3 9.45l-7.72 7.72c-.78.78-.78 2.05 0 2.83L4 21.41c.39.39.9.59 1.41.59.51 0 1.02-.2 1.41-.59l7.78-7.78 2.81-2.81c.8-.78.8-2.07 0-2.86zM5.41 20L4 18.59l7.72-7.72 1.47 1.35L5.41 20z\"/>\n",
              "  </svg>\n",
              "      </button>\n",
              "      \n",
              "  <style>\n",
              "    .colab-df-container {\n",
              "      display:flex;\n",
              "      flex-wrap:wrap;\n",
              "      gap: 12px;\n",
              "    }\n",
              "\n",
              "    .colab-df-convert {\n",
              "      background-color: #E8F0FE;\n",
              "      border: none;\n",
              "      border-radius: 50%;\n",
              "      cursor: pointer;\n",
              "      display: none;\n",
              "      fill: #1967D2;\n",
              "      height: 32px;\n",
              "      padding: 0 0 0 0;\n",
              "      width: 32px;\n",
              "    }\n",
              "\n",
              "    .colab-df-convert:hover {\n",
              "      background-color: #E2EBFA;\n",
              "      box-shadow: 0px 1px 2px rgba(60, 64, 67, 0.3), 0px 1px 3px 1px rgba(60, 64, 67, 0.15);\n",
              "      fill: #174EA6;\n",
              "    }\n",
              "\n",
              "    [theme=dark] .colab-df-convert {\n",
              "      background-color: #3B4455;\n",
              "      fill: #D2E3FC;\n",
              "    }\n",
              "\n",
              "    [theme=dark] .colab-df-convert:hover {\n",
              "      background-color: #434B5C;\n",
              "      box-shadow: 0px 1px 3px 1px rgba(0, 0, 0, 0.15);\n",
              "      filter: drop-shadow(0px 1px 2px rgba(0, 0, 0, 0.3));\n",
              "      fill: #FFFFFF;\n",
              "    }\n",
              "  </style>\n",
              "\n",
              "      <script>\n",
              "        const buttonEl =\n",
              "          document.querySelector('#df-610a95fd-7709-4a96-ae3a-a7625f1e0861 button.colab-df-convert');\n",
              "        buttonEl.style.display =\n",
              "          google.colab.kernel.accessAllowed ? 'block' : 'none';\n",
              "\n",
              "        async function convertToInteractive(key) {\n",
              "          const element = document.querySelector('#df-610a95fd-7709-4a96-ae3a-a7625f1e0861');\n",
              "          const dataTable =\n",
              "            await google.colab.kernel.invokeFunction('convertToInteractive',\n",
              "                                                     [key], {});\n",
              "          if (!dataTable) return;\n",
              "\n",
              "          const docLinkHtml = 'Like what you see? Visit the ' +\n",
              "            '<a target=\"_blank\" href=https://colab.research.google.com/notebooks/data_table.ipynb>data table notebook</a>'\n",
              "            + ' to learn more about interactive tables.';\n",
              "          element.innerHTML = '';\n",
              "          dataTable['output_type'] = 'display_data';\n",
              "          await google.colab.output.renderOutput(dataTable, element);\n",
              "          const docLink = document.createElement('div');\n",
              "          docLink.innerHTML = docLinkHtml;\n",
              "          element.appendChild(docLink);\n",
              "        }\n",
              "      </script>\n",
              "    </div>\n",
              "  </div>\n",
              "  "
            ]
          },
          "metadata": {},
          "execution_count": 6
        }
      ]
    },
    {
      "cell_type": "code",
      "source": [
        "jes = dx2.corr()\n",
        "jes"
      ],
      "metadata": {
        "colab": {
          "base_uri": "https://localhost:8080/",
          "height": 364
        },
        "id": "jio75s8jSkZx",
        "outputId": "cd5a3211-5c11-49a2-b250-9fd78060c622"
      },
      "execution_count": null,
      "outputs": [
        {
          "output_type": "execute_result",
          "data": {
            "text/plain": [
              "                Electronic_E  Dispersion_E  Dipole_M   Metal_q    HL_Gap  \\\n",
              "Electronic_E        1.000000      0.264260 -0.048157  0.142794  0.101011   \n",
              "Dispersion_E        0.264260      1.000000  0.220621 -0.320365  0.243740   \n",
              "Dipole_M           -0.048157      0.220621  1.000000 -0.344635 -0.110582   \n",
              "Metal_q             0.142794     -0.320365 -0.344635  1.000000 -0.097424   \n",
              "HL_Gap              0.101011      0.243740 -0.110582 -0.097424  1.000000   \n",
              "HOMO_Energy        -0.054412     -0.189147 -0.078145  0.024959 -0.322274   \n",
              "LUMO_Energy         0.043207      0.055791 -0.162681 -0.064731  0.609055   \n",
              "Polarizability     -0.301182     -0.972152 -0.227303  0.307989 -0.327077   \n",
              "\n",
              "                HOMO_Energy  LUMO_Energy  Polarizability  \n",
              "Electronic_E      -0.054412     0.043207       -0.301182  \n",
              "Dispersion_E      -0.189147     0.055791       -0.972152  \n",
              "Dipole_M          -0.078145    -0.162681       -0.227303  \n",
              "Metal_q            0.024959    -0.064731        0.307989  \n",
              "HL_Gap            -0.322274     0.609055       -0.327077  \n",
              "HOMO_Energy        1.000000     0.554530        0.222138  \n",
              "LUMO_Energy        0.554530     1.000000       -0.101408  \n",
              "Polarizability     0.222138    -0.101408        1.000000  "
            ],
            "text/html": [
              "\n",
              "  <div id=\"df-1f247808-4a36-42d4-bf21-0628f8431187\">\n",
              "    <div class=\"colab-df-container\">\n",
              "      <div>\n",
              "<style scoped>\n",
              "    .dataframe tbody tr th:only-of-type {\n",
              "        vertical-align: middle;\n",
              "    }\n",
              "\n",
              "    .dataframe tbody tr th {\n",
              "        vertical-align: top;\n",
              "    }\n",
              "\n",
              "    .dataframe thead th {\n",
              "        text-align: right;\n",
              "    }\n",
              "</style>\n",
              "<table border=\"1\" class=\"dataframe\">\n",
              "  <thead>\n",
              "    <tr style=\"text-align: right;\">\n",
              "      <th></th>\n",
              "      <th>Electronic_E</th>\n",
              "      <th>Dispersion_E</th>\n",
              "      <th>Dipole_M</th>\n",
              "      <th>Metal_q</th>\n",
              "      <th>HL_Gap</th>\n",
              "      <th>HOMO_Energy</th>\n",
              "      <th>LUMO_Energy</th>\n",
              "      <th>Polarizability</th>\n",
              "    </tr>\n",
              "  </thead>\n",
              "  <tbody>\n",
              "    <tr>\n",
              "      <th>Electronic_E</th>\n",
              "      <td>1.000000</td>\n",
              "      <td>0.264260</td>\n",
              "      <td>-0.048157</td>\n",
              "      <td>0.142794</td>\n",
              "      <td>0.101011</td>\n",
              "      <td>-0.054412</td>\n",
              "      <td>0.043207</td>\n",
              "      <td>-0.301182</td>\n",
              "    </tr>\n",
              "    <tr>\n",
              "      <th>Dispersion_E</th>\n",
              "      <td>0.264260</td>\n",
              "      <td>1.000000</td>\n",
              "      <td>0.220621</td>\n",
              "      <td>-0.320365</td>\n",
              "      <td>0.243740</td>\n",
              "      <td>-0.189147</td>\n",
              "      <td>0.055791</td>\n",
              "      <td>-0.972152</td>\n",
              "    </tr>\n",
              "    <tr>\n",
              "      <th>Dipole_M</th>\n",
              "      <td>-0.048157</td>\n",
              "      <td>0.220621</td>\n",
              "      <td>1.000000</td>\n",
              "      <td>-0.344635</td>\n",
              "      <td>-0.110582</td>\n",
              "      <td>-0.078145</td>\n",
              "      <td>-0.162681</td>\n",
              "      <td>-0.227303</td>\n",
              "    </tr>\n",
              "    <tr>\n",
              "      <th>Metal_q</th>\n",
              "      <td>0.142794</td>\n",
              "      <td>-0.320365</td>\n",
              "      <td>-0.344635</td>\n",
              "      <td>1.000000</td>\n",
              "      <td>-0.097424</td>\n",
              "      <td>0.024959</td>\n",
              "      <td>-0.064731</td>\n",
              "      <td>0.307989</td>\n",
              "    </tr>\n",
              "    <tr>\n",
              "      <th>HL_Gap</th>\n",
              "      <td>0.101011</td>\n",
              "      <td>0.243740</td>\n",
              "      <td>-0.110582</td>\n",
              "      <td>-0.097424</td>\n",
              "      <td>1.000000</td>\n",
              "      <td>-0.322274</td>\n",
              "      <td>0.609055</td>\n",
              "      <td>-0.327077</td>\n",
              "    </tr>\n",
              "    <tr>\n",
              "      <th>HOMO_Energy</th>\n",
              "      <td>-0.054412</td>\n",
              "      <td>-0.189147</td>\n",
              "      <td>-0.078145</td>\n",
              "      <td>0.024959</td>\n",
              "      <td>-0.322274</td>\n",
              "      <td>1.000000</td>\n",
              "      <td>0.554530</td>\n",
              "      <td>0.222138</td>\n",
              "    </tr>\n",
              "    <tr>\n",
              "      <th>LUMO_Energy</th>\n",
              "      <td>0.043207</td>\n",
              "      <td>0.055791</td>\n",
              "      <td>-0.162681</td>\n",
              "      <td>-0.064731</td>\n",
              "      <td>0.609055</td>\n",
              "      <td>0.554530</td>\n",
              "      <td>1.000000</td>\n",
              "      <td>-0.101408</td>\n",
              "    </tr>\n",
              "    <tr>\n",
              "      <th>Polarizability</th>\n",
              "      <td>-0.301182</td>\n",
              "      <td>-0.972152</td>\n",
              "      <td>-0.227303</td>\n",
              "      <td>0.307989</td>\n",
              "      <td>-0.327077</td>\n",
              "      <td>0.222138</td>\n",
              "      <td>-0.101408</td>\n",
              "      <td>1.000000</td>\n",
              "    </tr>\n",
              "  </tbody>\n",
              "</table>\n",
              "</div>\n",
              "      <button class=\"colab-df-convert\" onclick=\"convertToInteractive('df-1f247808-4a36-42d4-bf21-0628f8431187')\"\n",
              "              title=\"Convert this dataframe to an interactive table.\"\n",
              "              style=\"display:none;\">\n",
              "        \n",
              "  <svg xmlns=\"http://www.w3.org/2000/svg\" height=\"24px\"viewBox=\"0 0 24 24\"\n",
              "       width=\"24px\">\n",
              "    <path d=\"M0 0h24v24H0V0z\" fill=\"none\"/>\n",
              "    <path d=\"M18.56 5.44l.94 2.06.94-2.06 2.06-.94-2.06-.94-.94-2.06-.94 2.06-2.06.94zm-11 1L8.5 8.5l.94-2.06 2.06-.94-2.06-.94L8.5 2.5l-.94 2.06-2.06.94zm10 10l.94 2.06.94-2.06 2.06-.94-2.06-.94-.94-2.06-.94 2.06-2.06.94z\"/><path d=\"M17.41 7.96l-1.37-1.37c-.4-.4-.92-.59-1.43-.59-.52 0-1.04.2-1.43.59L10.3 9.45l-7.72 7.72c-.78.78-.78 2.05 0 2.83L4 21.41c.39.39.9.59 1.41.59.51 0 1.02-.2 1.41-.59l7.78-7.78 2.81-2.81c.8-.78.8-2.07 0-2.86zM5.41 20L4 18.59l7.72-7.72 1.47 1.35L5.41 20z\"/>\n",
              "  </svg>\n",
              "      </button>\n",
              "      \n",
              "  <style>\n",
              "    .colab-df-container {\n",
              "      display:flex;\n",
              "      flex-wrap:wrap;\n",
              "      gap: 12px;\n",
              "    }\n",
              "\n",
              "    .colab-df-convert {\n",
              "      background-color: #E8F0FE;\n",
              "      border: none;\n",
              "      border-radius: 50%;\n",
              "      cursor: pointer;\n",
              "      display: none;\n",
              "      fill: #1967D2;\n",
              "      height: 32px;\n",
              "      padding: 0 0 0 0;\n",
              "      width: 32px;\n",
              "    }\n",
              "\n",
              "    .colab-df-convert:hover {\n",
              "      background-color: #E2EBFA;\n",
              "      box-shadow: 0px 1px 2px rgba(60, 64, 67, 0.3), 0px 1px 3px 1px rgba(60, 64, 67, 0.15);\n",
              "      fill: #174EA6;\n",
              "    }\n",
              "\n",
              "    [theme=dark] .colab-df-convert {\n",
              "      background-color: #3B4455;\n",
              "      fill: #D2E3FC;\n",
              "    }\n",
              "\n",
              "    [theme=dark] .colab-df-convert:hover {\n",
              "      background-color: #434B5C;\n",
              "      box-shadow: 0px 1px 3px 1px rgba(0, 0, 0, 0.15);\n",
              "      filter: drop-shadow(0px 1px 2px rgba(0, 0, 0, 0.3));\n",
              "      fill: #FFFFFF;\n",
              "    }\n",
              "  </style>\n",
              "\n",
              "      <script>\n",
              "        const buttonEl =\n",
              "          document.querySelector('#df-1f247808-4a36-42d4-bf21-0628f8431187 button.colab-df-convert');\n",
              "        buttonEl.style.display =\n",
              "          google.colab.kernel.accessAllowed ? 'block' : 'none';\n",
              "\n",
              "        async function convertToInteractive(key) {\n",
              "          const element = document.querySelector('#df-1f247808-4a36-42d4-bf21-0628f8431187');\n",
              "          const dataTable =\n",
              "            await google.colab.kernel.invokeFunction('convertToInteractive',\n",
              "                                                     [key], {});\n",
              "          if (!dataTable) return;\n",
              "\n",
              "          const docLinkHtml = 'Like what you see? Visit the ' +\n",
              "            '<a target=\"_blank\" href=https://colab.research.google.com/notebooks/data_table.ipynb>data table notebook</a>'\n",
              "            + ' to learn more about interactive tables.';\n",
              "          element.innerHTML = '';\n",
              "          dataTable['output_type'] = 'display_data';\n",
              "          await google.colab.output.renderOutput(dataTable, element);\n",
              "          const docLink = document.createElement('div');\n",
              "          docLink.innerHTML = docLinkHtml;\n",
              "          element.appendChild(docLink);\n",
              "        }\n",
              "      </script>\n",
              "    </div>\n",
              "  </div>\n",
              "  "
            ]
          },
          "metadata": {},
          "execution_count": 28
        }
      ]
    },
    {
      "cell_type": "code",
      "source": [
        "jes.style.background_gradient (cmap = 'coolwarm')"
      ],
      "metadata": {
        "colab": {
          "base_uri": "https://localhost:8080/",
          "height": 320
        },
        "id": "_Egnp00pSkVZ",
        "outputId": "3d058bd4-5f70-4367-b4e4-d4b673267a59"
      },
      "execution_count": null,
      "outputs": [
        {
          "output_type": "execute_result",
          "data": {
            "text/plain": [
              "<pandas.io.formats.style.Styler at 0x7f0d92351710>"
            ],
            "text/html": [
              "<style type=\"text/css\">\n",
              "#T_a7974_row0_col0, #T_a7974_row1_col1, #T_a7974_row2_col2, #T_a7974_row3_col3, #T_a7974_row4_col4, #T_a7974_row5_col5, #T_a7974_row6_col6, #T_a7974_row7_col7 {\n",
              "  background-color: #b40426;\n",
              "  color: #f1f1f1;\n",
              "}\n",
              "#T_a7974_row0_col1 {\n",
              "  background-color: #f5c4ac;\n",
              "  color: #000000;\n",
              "}\n",
              "#T_a7974_row0_col2 {\n",
              "  background-color: #82a6fb;\n",
              "  color: #f1f1f1;\n",
              "}\n",
              "#T_a7974_row0_col3 {\n",
              "  background-color: #b3cdfb;\n",
              "  color: #000000;\n",
              "}\n",
              "#T_a7974_row0_col4 {\n",
              "  background-color: #a6c4fe;\n",
              "  color: #000000;\n",
              "}\n",
              "#T_a7974_row0_col5 {\n",
              "  background-color: #7b9ff9;\n",
              "  color: #f1f1f1;\n",
              "}\n",
              "#T_a7974_row0_col6 {\n",
              "  background-color: #7396f5;\n",
              "  color: #f1f1f1;\n",
              "}\n",
              "#T_a7974_row0_col7, #T_a7974_row3_col0 {\n",
              "  background-color: #adc9fd;\n",
              "  color: #000000;\n",
              "}\n",
              "#T_a7974_row1_col0 {\n",
              "  background-color: #cbd8ee;\n",
              "  color: #000000;\n",
              "}\n",
              "#T_a7974_row1_col2 {\n",
              "  background-color: #c6d6f1;\n",
              "  color: #000000;\n",
              "}\n",
              "#T_a7974_row1_col3 {\n",
              "  background-color: #3f53c6;\n",
              "  color: #f1f1f1;\n",
              "}\n",
              "#T_a7974_row1_col4 {\n",
              "  background-color: #cad8ef;\n",
              "  color: #000000;\n",
              "}\n",
              "#T_a7974_row1_col5 {\n",
              "  background-color: #5977e3;\n",
              "  color: #f1f1f1;\n",
              "}\n",
              "#T_a7974_row1_col6, #T_a7974_row5_col0 {\n",
              "  background-color: #779af7;\n",
              "  color: #f1f1f1;\n",
              "}\n",
              "#T_a7974_row1_col7, #T_a7974_row2_col3, #T_a7974_row2_col6, #T_a7974_row3_col2, #T_a7974_row4_col5, #T_a7974_row5_col4, #T_a7974_row7_col0, #T_a7974_row7_col1, #T_a7974_row7_col4 {\n",
              "  background-color: #3b4cc0;\n",
              "  color: #f1f1f1;\n",
              "}\n",
              "#T_a7974_row2_col0 {\n",
              "  background-color: #799cf8;\n",
              "  color: #f1f1f1;\n",
              "}\n",
              "#T_a7974_row2_col1 {\n",
              "  background-color: #f2cab5;\n",
              "  color: #000000;\n",
              "}\n",
              "#T_a7974_row2_col4 {\n",
              "  background-color: #6e90f2;\n",
              "  color: #f1f1f1;\n",
              "}\n",
              "#T_a7974_row2_col5, #T_a7974_row4_col3 {\n",
              "  background-color: #7699f6;\n",
              "  color: #f1f1f1;\n",
              "}\n",
              "#T_a7974_row2_col7 {\n",
              "  background-color: #b9d0f9;\n",
              "  color: #000000;\n",
              "}\n",
              "#T_a7974_row3_col1 {\n",
              "  background-color: #a9c6fd;\n",
              "  color: #000000;\n",
              "}\n",
              "#T_a7974_row3_col4, #T_a7974_row4_col2 {\n",
              "  background-color: #7295f4;\n",
              "  color: #f1f1f1;\n",
              "}\n",
              "#T_a7974_row3_col5, #T_a7974_row6_col0 {\n",
              "  background-color: #92b4fe;\n",
              "  color: #000000;\n",
              "}\n",
              "#T_a7974_row3_col6 {\n",
              "  background-color: #5470de;\n",
              "  color: #f1f1f1;\n",
              "}\n",
              "#T_a7974_row3_col7 {\n",
              "  background-color: #f6bda2;\n",
              "  color: #000000;\n",
              "}\n",
              "#T_a7974_row4_col0 {\n",
              "  background-color: #a2c1ff;\n",
              "  color: #000000;\n",
              "}\n",
              "#T_a7974_row4_col1, #T_a7974_row5_col6 {\n",
              "  background-color: #f3c7b1;\n",
              "  color: #000000;\n",
              "}\n",
              "#T_a7974_row4_col6, #T_a7974_row6_col5 {\n",
              "  background-color: #f7b99e;\n",
              "  color: #000000;\n",
              "}\n",
              "#T_a7974_row4_col7 {\n",
              "  background-color: #a7c5fe;\n",
              "  color: #000000;\n",
              "}\n",
              "#T_a7974_row5_col1 {\n",
              "  background-color: #bfd3f6;\n",
              "  color: #000000;\n",
              "}\n",
              "#T_a7974_row5_col2 {\n",
              "  background-color: #7a9df8;\n",
              "  color: #f1f1f1;\n",
              "}\n",
              "#T_a7974_row5_col3 {\n",
              "  background-color: #96b7ff;\n",
              "  color: #000000;\n",
              "}\n",
              "#T_a7974_row5_col7 {\n",
              "  background-color: #f2c9b4;\n",
              "  color: #000000;\n",
              "}\n",
              "#T_a7974_row6_col1 {\n",
              "  background-color: #e2dad5;\n",
              "  color: #000000;\n",
              "}\n",
              "#T_a7974_row6_col2 {\n",
              "  background-color: #6485ec;\n",
              "  color: #f1f1f1;\n",
              "}\n",
              "#T_a7974_row6_col3 {\n",
              "  background-color: #7ea1fa;\n",
              "  color: #f1f1f1;\n",
              "}\n",
              "#T_a7974_row6_col4 {\n",
              "  background-color: #f7aa8c;\n",
              "  color: #000000;\n",
              "}\n",
              "#T_a7974_row6_col7 {\n",
              "  background-color: #cdd9ec;\n",
              "  color: #000000;\n",
              "}\n",
              "#T_a7974_row7_col2 {\n",
              "  background-color: #5572df;\n",
              "  color: #f1f1f1;\n",
              "}\n",
              "#T_a7974_row7_col3 {\n",
              "  background-color: #d9dce1;\n",
              "  color: #000000;\n",
              "}\n",
              "#T_a7974_row7_col5 {\n",
              "  background-color: #c4d5f3;\n",
              "  color: #000000;\n",
              "}\n",
              "#T_a7974_row7_col6 {\n",
              "  background-color: #4a63d3;\n",
              "  color: #f1f1f1;\n",
              "}\n",
              "</style>\n",
              "<table id=\"T_a7974_\" class=\"dataframe\">\n",
              "  <thead>\n",
              "    <tr>\n",
              "      <th class=\"blank level0\" >&nbsp;</th>\n",
              "      <th class=\"col_heading level0 col0\" >Electronic_E</th>\n",
              "      <th class=\"col_heading level0 col1\" >Dispersion_E</th>\n",
              "      <th class=\"col_heading level0 col2\" >Dipole_M</th>\n",
              "      <th class=\"col_heading level0 col3\" >Metal_q</th>\n",
              "      <th class=\"col_heading level0 col4\" >HL_Gap</th>\n",
              "      <th class=\"col_heading level0 col5\" >HOMO_Energy</th>\n",
              "      <th class=\"col_heading level0 col6\" >LUMO_Energy</th>\n",
              "      <th class=\"col_heading level0 col7\" >Polarizability</th>\n",
              "    </tr>\n",
              "  </thead>\n",
              "  <tbody>\n",
              "    <tr>\n",
              "      <th id=\"T_a7974_level0_row0\" class=\"row_heading level0 row0\" >Electronic_E</th>\n",
              "      <td id=\"T_a7974_row0_col0\" class=\"data row0 col0\" >1.000000</td>\n",
              "      <td id=\"T_a7974_row0_col1\" class=\"data row0 col1\" >0.264260</td>\n",
              "      <td id=\"T_a7974_row0_col2\" class=\"data row0 col2\" >-0.048157</td>\n",
              "      <td id=\"T_a7974_row0_col3\" class=\"data row0 col3\" >0.142794</td>\n",
              "      <td id=\"T_a7974_row0_col4\" class=\"data row0 col4\" >0.101011</td>\n",
              "      <td id=\"T_a7974_row0_col5\" class=\"data row0 col5\" >-0.054412</td>\n",
              "      <td id=\"T_a7974_row0_col6\" class=\"data row0 col6\" >0.043207</td>\n",
              "      <td id=\"T_a7974_row0_col7\" class=\"data row0 col7\" >-0.301182</td>\n",
              "    </tr>\n",
              "    <tr>\n",
              "      <th id=\"T_a7974_level0_row1\" class=\"row_heading level0 row1\" >Dispersion_E</th>\n",
              "      <td id=\"T_a7974_row1_col0\" class=\"data row1 col0\" >0.264260</td>\n",
              "      <td id=\"T_a7974_row1_col1\" class=\"data row1 col1\" >1.000000</td>\n",
              "      <td id=\"T_a7974_row1_col2\" class=\"data row1 col2\" >0.220621</td>\n",
              "      <td id=\"T_a7974_row1_col3\" class=\"data row1 col3\" >-0.320365</td>\n",
              "      <td id=\"T_a7974_row1_col4\" class=\"data row1 col4\" >0.243740</td>\n",
              "      <td id=\"T_a7974_row1_col5\" class=\"data row1 col5\" >-0.189147</td>\n",
              "      <td id=\"T_a7974_row1_col6\" class=\"data row1 col6\" >0.055791</td>\n",
              "      <td id=\"T_a7974_row1_col7\" class=\"data row1 col7\" >-0.972152</td>\n",
              "    </tr>\n",
              "    <tr>\n",
              "      <th id=\"T_a7974_level0_row2\" class=\"row_heading level0 row2\" >Dipole_M</th>\n",
              "      <td id=\"T_a7974_row2_col0\" class=\"data row2 col0\" >-0.048157</td>\n",
              "      <td id=\"T_a7974_row2_col1\" class=\"data row2 col1\" >0.220621</td>\n",
              "      <td id=\"T_a7974_row2_col2\" class=\"data row2 col2\" >1.000000</td>\n",
              "      <td id=\"T_a7974_row2_col3\" class=\"data row2 col3\" >-0.344635</td>\n",
              "      <td id=\"T_a7974_row2_col4\" class=\"data row2 col4\" >-0.110582</td>\n",
              "      <td id=\"T_a7974_row2_col5\" class=\"data row2 col5\" >-0.078145</td>\n",
              "      <td id=\"T_a7974_row2_col6\" class=\"data row2 col6\" >-0.162681</td>\n",
              "      <td id=\"T_a7974_row2_col7\" class=\"data row2 col7\" >-0.227303</td>\n",
              "    </tr>\n",
              "    <tr>\n",
              "      <th id=\"T_a7974_level0_row3\" class=\"row_heading level0 row3\" >Metal_q</th>\n",
              "      <td id=\"T_a7974_row3_col0\" class=\"data row3 col0\" >0.142794</td>\n",
              "      <td id=\"T_a7974_row3_col1\" class=\"data row3 col1\" >-0.320365</td>\n",
              "      <td id=\"T_a7974_row3_col2\" class=\"data row3 col2\" >-0.344635</td>\n",
              "      <td id=\"T_a7974_row3_col3\" class=\"data row3 col3\" >1.000000</td>\n",
              "      <td id=\"T_a7974_row3_col4\" class=\"data row3 col4\" >-0.097424</td>\n",
              "      <td id=\"T_a7974_row3_col5\" class=\"data row3 col5\" >0.024959</td>\n",
              "      <td id=\"T_a7974_row3_col6\" class=\"data row3 col6\" >-0.064731</td>\n",
              "      <td id=\"T_a7974_row3_col7\" class=\"data row3 col7\" >0.307989</td>\n",
              "    </tr>\n",
              "    <tr>\n",
              "      <th id=\"T_a7974_level0_row4\" class=\"row_heading level0 row4\" >HL_Gap</th>\n",
              "      <td id=\"T_a7974_row4_col0\" class=\"data row4 col0\" >0.101011</td>\n",
              "      <td id=\"T_a7974_row4_col1\" class=\"data row4 col1\" >0.243740</td>\n",
              "      <td id=\"T_a7974_row4_col2\" class=\"data row4 col2\" >-0.110582</td>\n",
              "      <td id=\"T_a7974_row4_col3\" class=\"data row4 col3\" >-0.097424</td>\n",
              "      <td id=\"T_a7974_row4_col4\" class=\"data row4 col4\" >1.000000</td>\n",
              "      <td id=\"T_a7974_row4_col5\" class=\"data row4 col5\" >-0.322274</td>\n",
              "      <td id=\"T_a7974_row4_col6\" class=\"data row4 col6\" >0.609055</td>\n",
              "      <td id=\"T_a7974_row4_col7\" class=\"data row4 col7\" >-0.327077</td>\n",
              "    </tr>\n",
              "    <tr>\n",
              "      <th id=\"T_a7974_level0_row5\" class=\"row_heading level0 row5\" >HOMO_Energy</th>\n",
              "      <td id=\"T_a7974_row5_col0\" class=\"data row5 col0\" >-0.054412</td>\n",
              "      <td id=\"T_a7974_row5_col1\" class=\"data row5 col1\" >-0.189147</td>\n",
              "      <td id=\"T_a7974_row5_col2\" class=\"data row5 col2\" >-0.078145</td>\n",
              "      <td id=\"T_a7974_row5_col3\" class=\"data row5 col3\" >0.024959</td>\n",
              "      <td id=\"T_a7974_row5_col4\" class=\"data row5 col4\" >-0.322274</td>\n",
              "      <td id=\"T_a7974_row5_col5\" class=\"data row5 col5\" >1.000000</td>\n",
              "      <td id=\"T_a7974_row5_col6\" class=\"data row5 col6\" >0.554530</td>\n",
              "      <td id=\"T_a7974_row5_col7\" class=\"data row5 col7\" >0.222138</td>\n",
              "    </tr>\n",
              "    <tr>\n",
              "      <th id=\"T_a7974_level0_row6\" class=\"row_heading level0 row6\" >LUMO_Energy</th>\n",
              "      <td id=\"T_a7974_row6_col0\" class=\"data row6 col0\" >0.043207</td>\n",
              "      <td id=\"T_a7974_row6_col1\" class=\"data row6 col1\" >0.055791</td>\n",
              "      <td id=\"T_a7974_row6_col2\" class=\"data row6 col2\" >-0.162681</td>\n",
              "      <td id=\"T_a7974_row6_col3\" class=\"data row6 col3\" >-0.064731</td>\n",
              "      <td id=\"T_a7974_row6_col4\" class=\"data row6 col4\" >0.609055</td>\n",
              "      <td id=\"T_a7974_row6_col5\" class=\"data row6 col5\" >0.554530</td>\n",
              "      <td id=\"T_a7974_row6_col6\" class=\"data row6 col6\" >1.000000</td>\n",
              "      <td id=\"T_a7974_row6_col7\" class=\"data row6 col7\" >-0.101408</td>\n",
              "    </tr>\n",
              "    <tr>\n",
              "      <th id=\"T_a7974_level0_row7\" class=\"row_heading level0 row7\" >Polarizability</th>\n",
              "      <td id=\"T_a7974_row7_col0\" class=\"data row7 col0\" >-0.301182</td>\n",
              "      <td id=\"T_a7974_row7_col1\" class=\"data row7 col1\" >-0.972152</td>\n",
              "      <td id=\"T_a7974_row7_col2\" class=\"data row7 col2\" >-0.227303</td>\n",
              "      <td id=\"T_a7974_row7_col3\" class=\"data row7 col3\" >0.307989</td>\n",
              "      <td id=\"T_a7974_row7_col4\" class=\"data row7 col4\" >-0.327077</td>\n",
              "      <td id=\"T_a7974_row7_col5\" class=\"data row7 col5\" >0.222138</td>\n",
              "      <td id=\"T_a7974_row7_col6\" class=\"data row7 col6\" >-0.101408</td>\n",
              "      <td id=\"T_a7974_row7_col7\" class=\"data row7 col7\" >1.000000</td>\n",
              "    </tr>\n",
              "  </tbody>\n",
              "</table>\n"
            ]
          },
          "metadata": {},
          "execution_count": 29
        }
      ]
    },
    {
      "cell_type": "code",
      "source": [
        "import pandas as pd\n",
        "import numpy as np\n",
        "import matplotlib.pyplot as plt\n",
        "import statsmodels.api as sm\n",
        "grafica = dx2.corr()\n",
        "sm.graphics.plot_corr(grafica, xnames=list(grafica))\n",
        "plt.savefig('matrix_zn.eps')\n",
        "plt.show()"
      ],
      "metadata": {
        "colab": {
          "base_uri": "https://localhost:8080/",
          "height": 297
        },
        "id": "ZT0WnWXoSxml",
        "outputId": "3280a671-7a74-40b4-adcd-0bd979f2a133"
      },
      "execution_count": null,
      "outputs": [
        {
          "output_type": "display_data",
          "data": {
            "text/plain": [
              "<Figure size 432x288 with 2 Axes>"
            ],
            "image/png": "[encoded data removed]"
          },
          "metadata": {
            "needs_background": "light"
          }
        }
      ]
    },
    {
      "cell_type": "markdown",
      "source": [
        "Las  más polarizables tienden a presentar menor HL_Gap"
      ],
      "metadata": {
        "id": "T4GglfzUVLPM"
      }
    },
    {
      "cell_type": "code",
      "source": [
        "dx2.columns"
      ],
      "metadata": {
        "colab": {
          "base_uri": "https://localhost:8080/"
        },
        "id": "m03BiBqTpPa2",
        "outputId": "dfd83aa6-a0e1-46aa-c746-101723d7f394"
      },
      "execution_count": null,
      "outputs": [
        {
          "output_type": "execute_result",
          "data": {
            "text/plain": [
              "Index(['Electronic_E', 'Dispersion_E', 'Dipole_M', 'Metal_q', 'HL_Gap',\n",
              "       'HOMO_Energy', 'LUMO_Energy', 'Polarizability'],\n",
              "      dtype='object')"
            ]
          },
          "metadata": {},
          "execution_count": 10
        }
      ]
    },
    {
      "cell_type": "code",
      "source": [
        "from sklearn.preprocessing import MinMaxScaler"
      ],
      "metadata": {
        "id": "AkV9Z_Bgpsy4"
      },
      "execution_count": null,
      "outputs": []
    },
    {
      "cell_type": "code",
      "source": [
        "scaler = MinMaxScaler()\n",
        "scaled_df = scaler.fit_transform(dx2)\n",
        "dx2_scaled_df = pd.DataFrame(scaled_df, columns=['Electronic_E', 'Dispersion_E',\n",
        "                                             'Dipole_M', 'Metal_q',\n",
        "                                             'HL_Gap','HOMO_Energy',\n",
        "                                             'LUMO_Energy', 'Polarizability'])\n",
        "print(dx2_scaled_df)"
      ],
      "metadata": {
        "colab": {
          "base_uri": "https://localhost:8080/"
        },
        "id": "X8m8FfLXoRwh",
        "outputId": "d5587cf3-c769-4603-fc54-bad56bbc1740"
      },
      "execution_count": null,
      "outputs": [
        {
          "output_type": "stream",
          "name": "stdout",
          "text": [
            "      Electronic_E  Dispersion_E  Dipole_M   Metal_q    HL_Gap  HOMO_Energy  \\\n",
            "0         0.643292      0.000000  0.213611  0.720059  0.257133     0.469391   \n",
            "1         0.754860      0.258409  0.001400  0.672160  0.222450     0.539283   \n",
            "2         0.782986      0.237832  0.009288  0.715293  0.203310     0.553285   \n",
            "3         0.759545      0.199703  0.113772  0.781844  0.291275     0.606905   \n",
            "4         0.798994      0.307066  0.001024  0.812428  0.309444     0.551480   \n",
            "...            ...           ...       ...       ...       ...          ...   \n",
            "5860      0.956257      0.974743  0.189461  0.468256  0.881777     0.404361   \n",
            "5861      0.987816      0.972896  0.115808  0.580008  0.798849     0.523040   \n",
            "5862      0.982398      0.981350  0.299426  0.818417  0.624897     0.046954   \n",
            "5863      0.996899      0.991213  0.017530  0.579871  0.672135     0.472040   \n",
            "5864      1.000000      1.000000  0.000000  0.603209  0.826408     0.401624   \n",
            "\n",
            "      LUMO_Energy  Polarizability  \n",
            "0        0.371445        1.000000  \n",
            "1        0.402908        0.848410  \n",
            "2        0.401791        0.813679  \n",
            "3        0.495654        0.802328  \n",
            "4        0.465023        0.726336  \n",
            "...           ...             ...  \n",
            "5860     0.702669        0.036630  \n",
            "5861     0.741467        0.035100  \n",
            "5862     0.277516        0.026214  \n",
            "5863     0.625993        0.013155  \n",
            "5864     0.666915        0.000000  \n",
            "\n",
            "[5865 rows x 8 columns]\n"
          ]
        }
      ]
    },
    {
      "cell_type": "code",
      "source": [
        "import seaborn as sns\n",
        "import matplotlib.pyplot as plt\n",
        "from matplotlib.collections import PathCollection\n",
        "ax = sns.violinplot(data=dx2_scaled_df,scatter=None) #, color=\"0.9\")\n",
        "ax.set_xticklabels(ax.get_xticklabels(),rotation = 16)\n",
        "plt.savefig('zn_complex_violin1.eps')\n",
        "plt.show()"
      ],
      "metadata": {
        "colab": {
          "base_uri": "https://localhost:8080/",
          "height": 286
        },
        "id": "GMV_FYh2AXQr",
        "outputId": "163df809-8003-49d4-9a54-ac0ebb837892"
      },
      "execution_count": null,
      "outputs": [
        {
          "output_type": "display_data",
          "data": {
            "text/plain": [
              "<Figure size 432x288 with 1 Axes>"
            ],
            "image/png": "[encoded data removed]"
          },
          "metadata": {
            "needs_background": "light"
          }
        }
      ]
    },
    {
      "cell_type": "code",
      "source": [
        "sns.violinplot(y='Electronic_E', data=dx2, color = 'red') \n",
        "sns.stripplot(y='Electronic_E',data=dx2, color =None, edgecolor = 'none',alpha=0.5) #color = '0.8'\n",
        "#x=x,y=y,data=Train_data"
      ],
      "metadata": {
        "colab": {
          "base_uri": "https://localhost:8080/",
          "height": 273
        },
        "id": "hmkX-aXF1bmt",
        "outputId": "d2cef4ae-8e82-47cf-be7c-41c996c67f4e"
      },
      "execution_count": null,
      "outputs": [
        {
          "output_type": "execute_result",
          "data": {
            "text/plain": [
              "<matplotlib.axes._subplots.AxesSubplot at 0x7f8a8419ec50>"
            ]
          },
          "metadata": {},
          "execution_count": 18
        },
        {
          "output_type": "display_data",
          "data": {
            "text/plain": [
              "<Figure size 432x288 with 1 Axes>"
            ],
            "image/png": "[encoded data removed]"
          },
          "metadata": {
            "needs_background": "light"
          }
        }
      ]
    },
    {
      "cell_type": "code",
      "source": [
        "print('Coeficiente de variación de Electronic_E: ',np.std(dx2['Electronic_E'])/np.mean(dx2['Electronic_E']))"
      ],
      "metadata": {
        "colab": {
          "base_uri": "https://localhost:8080/"
        },
        "id": "tQvRAPCv_MlV",
        "outputId": "7a8df007-1e44-4ba0-9c15-1a3e3067bb42"
      },
      "execution_count": null,
      "outputs": [
        {
          "output_type": "stream",
          "name": "stdout",
          "text": [
            "Coeficiente de variación de Electronic_E:  -0.3850543365567328\n"
          ]
        }
      ]
    },
    {
      "cell_type": "code",
      "source": [
        "sns.violinplot(y='Dispersion_E', data=dx2, color = 'green') \n",
        "sns.stripplot(y='Dispersion_E',data=dx2, color =None, edgecolor = 'none',alpha=0.5)"
      ],
      "metadata": {
        "colab": {
          "base_uri": "https://localhost:8080/",
          "height": 269
        },
        "id": "rHHvLeLz55u4",
        "outputId": "2910719a-52d4-43d6-ef3f-01e09cd279ab"
      },
      "execution_count": null,
      "outputs": [
        {
          "output_type": "execute_result",
          "data": {
            "text/plain": [
              "<matplotlib.axes._subplots.AxesSubplot at 0x7f8a8413c3d0>"
            ]
          },
          "metadata": {},
          "execution_count": 20
        },
        {
          "output_type": "display_data",
          "data": {
            "text/plain": [
              "<Figure size 432x288 with 1 Axes>"
            ],
            "image/png": "[encoded data removed]"
          },
          "metadata": {
            "needs_background": "light"
          }
        }
      ]
    },
    {
      "cell_type": "code",
      "source": [
        "print('Coeficiente de variación de Dispersion_E: ',np.std(dx2['Dispersion_E'])/np.mean(dx2['Dispersion_E']))"
      ],
      "metadata": {
        "colab": {
          "base_uri": "https://localhost:8080/"
        },
        "id": "U9P68KS2AC3K",
        "outputId": "7e98d2e1-b21c-4a2c-de92-b8c004783598"
      },
      "execution_count": null,
      "outputs": [
        {
          "output_type": "stream",
          "name": "stdout",
          "text": [
            "Coeficiente de variación de Dispersion_E:  -0.5125302797184726\n"
          ]
        }
      ]
    },
    {
      "cell_type": "code",
      "source": [
        "sns.violinplot(y='Dipole_M', data=dx2, color = 'blue') \n",
        "sns.stripplot(y='Dipole_M',data=dx2, color =None, edgecolor = 'none',alpha=0.5)"
      ],
      "metadata": {
        "colab": {
          "base_uri": "https://localhost:8080/",
          "height": 269
        },
        "id": "h3SwjRyz7HTb",
        "outputId": "6814f268-0c47-4d90-8963-0de02257bc74"
      },
      "execution_count": null,
      "outputs": [
        {
          "output_type": "execute_result",
          "data": {
            "text/plain": [
              "<matplotlib.axes._subplots.AxesSubplot at 0x7f8a840ad650>"
            ]
          },
          "metadata": {},
          "execution_count": 26
        },
        {
          "output_type": "display_data",
          "data": {
            "text/plain": [
              "<Figure size 432x288 with 1 Axes>"
            ],
            "image/png": "[encoded data removed]"
          },
          "metadata": {
            "needs_background": "light"
          }
        }
      ]
    },
    {
      "cell_type": "code",
      "source": [
        "print('Coeficiente de variación de Dipole_M: ',np.std(dx2['Dipole_M'])/np.mean(dx2['Dipole_M']))"
      ],
      "metadata": {
        "colab": {
          "base_uri": "https://localhost:8080/"
        },
        "id": "G_SKkaSxAMRb",
        "outputId": "51acba20-c8bf-4f08-e785-4290b15ab377"
      },
      "execution_count": null,
      "outputs": [
        {
          "output_type": "stream",
          "name": "stdout",
          "text": [
            "Coeficiente de variación de Dipole_M:  0.6579637908831137\n"
          ]
        }
      ]
    },
    {
      "cell_type": "code",
      "source": [
        "sns.violinplot(y='Metal_q_neg', data=dx2, color = 'yellow') \n",
        "sns.stripplot(y='Metal_q_neg',data=dx2, color =None, edgecolor = 'none',alpha=0.5)"
      ],
      "metadata": {
        "colab": {
          "base_uri": "https://localhost:8080/",
          "height": 269
        },
        "id": "g8s5mRBu7HQr",
        "outputId": "0e728336-b6f8-4fb5-98e0-f92db69271fd"
      },
      "execution_count": null,
      "outputs": [
        {
          "output_type": "execute_result",
          "data": {
            "text/plain": [
              "<matplotlib.axes._subplots.AxesSubplot at 0x7f8a8404cd50>"
            ]
          },
          "metadata": {},
          "execution_count": 30
        },
        {
          "output_type": "display_data",
          "data": {
            "text/plain": [
              "<Figure size 432x288 with 1 Axes>"
            ],
            "image/png": "[encoded data removed]"
          },
          "metadata": {
            "needs_background": "light"
          }
        }
      ]
    },
    {
      "cell_type": "code",
      "source": [
        "print('Coeficiente de variación de Metal_q: ',np.std(dx2['Metal_q_neg'])/np.mean(dx2['Metal_q_neg']))"
      ],
      "metadata": {
        "colab": {
          "base_uri": "https://localhost:8080/"
        },
        "id": "uAwIvwUvASyo",
        "outputId": "cea0c651-17a4-42be-e1c0-2bea96487f19"
      },
      "execution_count": null,
      "outputs": [
        {
          "output_type": "stream",
          "name": "stdout",
          "text": [
            "Coeficiente de variación de Metal_q:  -0.11854165163305744\n"
          ]
        }
      ]
    },
    {
      "cell_type": "code",
      "source": [
        "sns.violinplot(y='HL_Gap', data=dx2, color = 'purple') \n",
        "sns.stripplot(y='HL_Gap',data=dx2, color =None, edgecolor = 'none',alpha=0.5)"
      ],
      "metadata": {
        "colab": {
          "base_uri": "https://localhost:8080/",
          "height": 269
        },
        "id": "-FnYRvLX7HOK",
        "outputId": "ca0534c4-9393-4974-a607-6ea445788065"
      },
      "execution_count": null,
      "outputs": [
        {
          "output_type": "execute_result",
          "data": {
            "text/plain": [
              "<matplotlib.axes._subplots.AxesSubplot at 0x7f8a8402ef90>"
            ]
          },
          "metadata": {},
          "execution_count": 32
        },
        {
          "output_type": "display_data",
          "data": {
            "text/plain": [
              "<Figure size 432x288 with 1 Axes>"
            ],
            "image/png": "[encoded data removed]"
          },
          "metadata": {
            "needs_background": "light"
          }
        }
      ]
    },
    {
      "cell_type": "code",
      "source": [
        "print('Coeficiente de variación de HL_Gap: ',np.std(dx2['HL_Gap'])/np.mean(dx2['HL_Gap']))"
      ],
      "metadata": {
        "colab": {
          "base_uri": "https://localhost:8080/"
        },
        "id": "9vIje8syAaIm",
        "outputId": "9119c0a7-49a3-4e21-cace-08b48b11b319"
      },
      "execution_count": null,
      "outputs": [
        {
          "output_type": "stream",
          "name": "stdout",
          "text": [
            "Coeficiente de variación de HL_Gap:  0.3457979232606175\n"
          ]
        }
      ]
    },
    {
      "cell_type": "code",
      "source": [
        "sns.violinplot(y='HOMO_Energy', data=dx2, color = 'brown') \n",
        "sns.stripplot(y='HOMO_Energy',data=dx2, color =None, edgecolor = 'none',alpha=0.5)"
      ],
      "metadata": {
        "colab": {
          "base_uri": "https://localhost:8080/",
          "height": 270
        },
        "id": "SCek2nAK7HLk",
        "outputId": "1d812e25-d4fc-4fea-bfb8-9d6f6955cdcd"
      },
      "execution_count": null,
      "outputs": [
        {
          "output_type": "execute_result",
          "data": {
            "text/plain": [
              "<matplotlib.axes._subplots.AxesSubplot at 0x7f8a84003050>"
            ]
          },
          "metadata": {},
          "execution_count": 34
        },
        {
          "output_type": "display_data",
          "data": {
            "text/plain": [
              "<Figure size 432x288 with 1 Axes>"
            ],
            "image/png": "[encoded data removed]"
          },
          "metadata": {
            "needs_background": "light"
          }
        }
      ]
    },
    {
      "cell_type": "code",
      "source": [
        "print('Coeficiente de variación de HOMO_Energy: ',np.std(dx2['HOMO_Energy'])/np.mean(dx2['HOMO_Energy']))"
      ],
      "metadata": {
        "colab": {
          "base_uri": "https://localhost:8080/"
        },
        "id": "47UMYb69BAme",
        "outputId": "4397bcee-698c-4830-ff24-eaa06bc32c2d"
      },
      "execution_count": null,
      "outputs": [
        {
          "output_type": "stream",
          "name": "stdout",
          "text": [
            "Coeficiente de variación de HOMO_Energy:  -0.20200447507330352\n"
          ]
        }
      ]
    },
    {
      "cell_type": "code",
      "source": [
        "sns.violinplot(y='LUMO_Energy', data=dx2, color = 'pink') \n",
        "sns.stripplot(y='LUMO_Energy',data=dx2, color =None, edgecolor = 'none',alpha=0.5)"
      ],
      "metadata": {
        "colab": {
          "base_uri": "https://localhost:8080/",
          "height": 269
        },
        "id": "8EmAG4Bf7HJf",
        "outputId": "1b81fc70-0fd1-416d-fea7-d748cf80ce61"
      },
      "execution_count": null,
      "outputs": [
        {
          "output_type": "execute_result",
          "data": {
            "text/plain": [
              "<matplotlib.axes._subplots.AxesSubplot at 0x7f8a83f13510>"
            ]
          },
          "metadata": {},
          "execution_count": 36
        },
        {
          "output_type": "display_data",
          "data": {
            "text/plain": [
              "<Figure size 432x288 with 1 Axes>"
            ],
            "image/png": "[encoded data removed]"
          },
          "metadata": {
            "needs_background": "light"
          }
        }
      ]
    },
    {
      "cell_type": "code",
      "source": [
        "print('Coeficiente de variación de LUMO_Energy: ',np.std(dx2['LUMO_Energy'])/np.mean(dx2['LUMO_Energy']))"
      ],
      "metadata": {
        "colab": {
          "base_uri": "https://localhost:8080/"
        },
        "id": "I1MRTDtsBJOi",
        "outputId": "4bfdabaa-d0d5-43c0-feae-4dde296d180e"
      },
      "execution_count": null,
      "outputs": [
        {
          "output_type": "stream",
          "name": "stdout",
          "text": [
            "Coeficiente de variación de LUMO_Energy:  -0.6228810913137048\n"
          ]
        }
      ]
    },
    {
      "cell_type": "code",
      "source": [
        "sns.violinplot(y='Polarizability', data=dx2, color='magenta') \n",
        "sns.stripplot(y='Polarizability',data=dx2, color =None, edgecolor = 'none',alpha=0.5)"
      ],
      "metadata": {
        "colab": {
          "base_uri": "https://localhost:8080/",
          "height": 269
        },
        "id": "MLQOsLfy7G_1",
        "outputId": "508c5a01-36ff-40aa-b7c5-0e4ba21e3416"
      },
      "execution_count": null,
      "outputs": [
        {
          "output_type": "execute_result",
          "data": {
            "text/plain": [
              "<matplotlib.axes._subplots.AxesSubplot at 0x7f8a83ef3110>"
            ]
          },
          "metadata": {},
          "execution_count": 38
        },
        {
          "output_type": "display_data",
          "data": {
            "text/plain": [
              "<Figure size 432x288 with 1 Axes>"
            ],
            "image/png": "[encoded data removed]"
          },
          "metadata": {
            "needs_background": "light"
          }
        }
      ]
    },
    {
      "cell_type": "code",
      "source": [
        "print('Coeficiente de variación de Polarizability: ',np.std(dx2['Polarizability'])/np.mean(dx2['Polarizability']))"
      ],
      "metadata": {
        "colab": {
          "base_uri": "https://localhost:8080/"
        },
        "id": "5MUFuvUjBR7o",
        "outputId": "c1ffc4ee-1ab0-47fd-9ba2-8413c2e75055"
      },
      "execution_count": null,
      "outputs": [
        {
          "output_type": "stream",
          "name": "stdout",
          "text": [
            "Coeficiente de variación de Polarizability:  0.4045182154629215\n"
          ]
        }
      ]
    }
  ],
  "metadata": {
    "colab": {
      "collapsed_sections": [],
      "provenance": [],
      "include_colab_link": true
    },
    "kernelspec": {
      "display_name": "Python 3",
      "name": "python3"
    },
    "language_info": {
      "name": "python"
    }
  },
  "nbformat": 4,
  "nbformat_minor": 0
}